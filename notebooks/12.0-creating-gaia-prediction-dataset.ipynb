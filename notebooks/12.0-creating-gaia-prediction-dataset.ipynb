{
 "cells": [
  {
   "cell_type": "markdown",
   "metadata": {},
   "source": [
    "# IMPORTS"
   ]
  },
  {
   "cell_type": "code",
   "execution_count": 1,
   "metadata": {},
   "outputs": [],
   "source": [
    "from hvac_control.data import load_data, save_img, save_data\n",
    "from hvac_control.preprocessing import *\n",
    "from hvac_control.decision_plots import *\n",
    "\n",
    "#load preprocessed data\n",
    "data_to_load = \"gaia_data_1.csv\"\n",
    "df_index = load_data(data_to_load, header_names=None, index=True)"
   ]
  },
  {
   "cell_type": "markdown",
   "metadata": {},
   "source": [
    "# DATASET CREATION"
   ]
  },
  {
   "cell_type": "markdown",
   "metadata": {},
   "source": [
    "We filter the dataset"
   ]
  },
  {
   "cell_type": "code",
   "execution_count": 3,
   "metadata": {},
   "outputs": [],
   "source": [
    "df_index = filter_signal_non_causal(df_index, ['T_ext', 'Solar_irrad', 'T_imp', 'BC1_power', 'BC2_power', 'T_ret'], 5)"
   ]
  },
  {
   "cell_type": "markdown",
   "metadata": {},
   "source": [
    "We add new columns to the dataset"
   ]
  },
  {
   "cell_type": "code",
   "execution_count": 4,
   "metadata": {},
   "outputs": [],
   "source": [
    "df_index['Diff_temp'] = df_index['T_imp'] - df_index['T_ret']\n",
    "df_index['Day_week'] = df_index.index.to_series().dt.dayofweek\n",
    "df_index['Hours'] = df_index.index.to_series().dt.hour\n",
    "df_index['T_ret_in_1h'] = df_index['T_ret'].shift(-30) # 1 hour is 30 rows, since between rows there is a 2 min interval\n",
    "df_index = df_index.iloc[:-30]"
   ]
  },
  {
   "cell_type": "markdown",
   "metadata": {},
   "source": [
    "Encoding cyclic / periodic features"
   ]
  },
  {
   "cell_type": "code",
   "execution_count": 5,
   "metadata": {},
   "outputs": [],
   "source": [
    "df_index['Hours_sin'] = np.sin(2 * np.pi *   df_index['Hours']/24.0)\n",
    "df_index['Hours_cos'] = np.cos(2 * np.pi *   df_index['Hours']/24.0)\n",
    "df_index['Day_week_sin'] = np.sin(2 * np.pi * df_index['Day_week']/7)\n",
    "df_index['Day_week_cos'] = np.cos(2 * np.pi * df_index['Day_week']/7)\n",
    "df_index=df_index.drop(['Day_week', 'Hours'], axis=1)"
   ]
  },
  {
   "cell_type": "markdown",
   "metadata": {},
   "source": [
    "We remove the day 25 of May because it was observed that it behaves differently w.r.t. the other days. We also change the ending hour to 17:30 instead of 18:30 because we want to predict the T_ret 1 hour into the future, so at 17:30 we will be predicting the T_ret at 18:30 (last working hour)."
   ]
  },
  {
   "cell_type": "code",
   "execution_count": 6,
   "metadata": {},
   "outputs": [],
   "source": [
    "df_index = remove_specific_day(df_index, '2022-05-25')\n",
    "dfs_day_working_hours = remove_non_working_hours(df_index, strating_hour='05:00', ending_hour='17:30')"
   ]
  },
  {
   "cell_type": "markdown",
   "metadata": {},
   "source": [
    "Remove index datetime and add day number column. This added column will be useful for the train/test split of the dataset"
   ]
  },
  {
   "cell_type": "code",
   "execution_count": 17,
   "metadata": {},
   "outputs": [],
   "source": [
    "dfs_for_prediction = []\n",
    "\n",
    "for i,df_day in enumerate(dfs_day_working_hours):\n",
    "    df_day=df_day.reset_index().drop('datetime', axis=1)\n",
    "    df_day['Day'] = i\n",
    "    dfs_for_prediction.append(df_day)"
   ]
  },
  {
   "cell_type": "code",
   "execution_count": 18,
   "metadata": {},
   "outputs": [
    {
     "name": "stdout",
     "output_type": "stream",
     "text": [
      "(5640, 11)\n"
     ]
    },
    {
     "data": {
      "text/html": [
       "<div>\n",
       "<style scoped>\n",
       "    .dataframe tbody tr th:only-of-type {\n",
       "        vertical-align: middle;\n",
       "    }\n",
       "\n",
       "    .dataframe tbody tr th {\n",
       "        vertical-align: top;\n",
       "    }\n",
       "\n",
       "    .dataframe thead th {\n",
       "        text-align: right;\n",
       "    }\n",
       "</style>\n",
       "<table border=\"1\" class=\"dataframe\">\n",
       "  <thead>\n",
       "    <tr style=\"text-align: right;\">\n",
       "      <th></th>\n",
       "      <th>Day</th>\n",
       "      <th>T_ext</th>\n",
       "      <th>Solar_irrad</th>\n",
       "      <th>T_imp</th>\n",
       "      <th>BC1_power</th>\n",
       "      <th>BC2_power</th>\n",
       "      <th>Diff_temp</th>\n",
       "      <th>Hours_sin</th>\n",
       "      <th>Hours_cos</th>\n",
       "      <th>T_ret</th>\n",
       "      <th>T_ret_in_1h</th>\n",
       "    </tr>\n",
       "  </thead>\n",
       "  <tbody>\n",
       "    <tr>\n",
       "      <th>0</th>\n",
       "      <td>0</td>\n",
       "      <td>19.778001</td>\n",
       "      <td>25.0</td>\n",
       "      <td>9.132007</td>\n",
       "      <td>3.09</td>\n",
       "      <td>15.77</td>\n",
       "      <td>-0.825995</td>\n",
       "      <td>0.965926</td>\n",
       "      <td>0.258819</td>\n",
       "      <td>9.958002</td>\n",
       "      <td>11.320013</td>\n",
       "    </tr>\n",
       "    <tr>\n",
       "      <th>1</th>\n",
       "      <td>0</td>\n",
       "      <td>19.800001</td>\n",
       "      <td>26.8</td>\n",
       "      <td>9.132007</td>\n",
       "      <td>3.09</td>\n",
       "      <td>15.76</td>\n",
       "      <td>-0.829993</td>\n",
       "      <td>0.965926</td>\n",
       "      <td>0.258819</td>\n",
       "      <td>9.962000</td>\n",
       "      <td>11.320013</td>\n",
       "    </tr>\n",
       "    <tr>\n",
       "      <th>2</th>\n",
       "      <td>0</td>\n",
       "      <td>19.810001</td>\n",
       "      <td>28.8</td>\n",
       "      <td>9.142010</td>\n",
       "      <td>3.09</td>\n",
       "      <td>15.74</td>\n",
       "      <td>-0.835992</td>\n",
       "      <td>0.965926</td>\n",
       "      <td>0.258819</td>\n",
       "      <td>9.978003</td>\n",
       "      <td>11.280011</td>\n",
       "    </tr>\n",
       "    <tr>\n",
       "      <th>3</th>\n",
       "      <td>0</td>\n",
       "      <td>19.820000</td>\n",
       "      <td>32.6</td>\n",
       "      <td>9.120007</td>\n",
       "      <td>3.09</td>\n",
       "      <td>15.75</td>\n",
       "      <td>-0.811993</td>\n",
       "      <td>0.965926</td>\n",
       "      <td>0.258819</td>\n",
       "      <td>9.932001</td>\n",
       "      <td>11.210010</td>\n",
       "    </tr>\n",
       "    <tr>\n",
       "      <th>4</th>\n",
       "      <td>0</td>\n",
       "      <td>19.830000</td>\n",
       "      <td>36.8</td>\n",
       "      <td>9.102008</td>\n",
       "      <td>3.10</td>\n",
       "      <td>15.74</td>\n",
       "      <td>-0.801996</td>\n",
       "      <td>0.965926</td>\n",
       "      <td>0.258819</td>\n",
       "      <td>9.904004</td>\n",
       "      <td>11.134009</td>\n",
       "    </tr>\n",
       "  </tbody>\n",
       "</table>\n",
       "</div>"
      ],
      "text/plain": [
       "   Day      T_ext  Solar_irrad     T_imp  BC1_power  BC2_power  Diff_temp  \\\n",
       "0    0  19.778001         25.0  9.132007       3.09      15.77  -0.825995   \n",
       "1    0  19.800001         26.8  9.132007       3.09      15.76  -0.829993   \n",
       "2    0  19.810001         28.8  9.142010       3.09      15.74  -0.835992   \n",
       "3    0  19.820000         32.6  9.120007       3.09      15.75  -0.811993   \n",
       "4    0  19.830000         36.8  9.102008       3.10      15.74  -0.801996   \n",
       "\n",
       "   Hours_sin  Hours_cos     T_ret  T_ret_in_1h  \n",
       "0   0.965926   0.258819  9.958002    11.320013  \n",
       "1   0.965926   0.258819  9.962000    11.320013  \n",
       "2   0.965926   0.258819  9.978003    11.280011  \n",
       "3   0.965926   0.258819  9.932001    11.210010  \n",
       "4   0.965926   0.258819  9.904004    11.134009  "
      ]
     },
     "execution_count": 18,
     "metadata": {},
     "output_type": "execute_result"
    }
   ],
   "source": [
    "x_columns = ['Day', 'T_ext', 'Solar_irrad', 'T_imp', \n",
    "           'BC1_power', 'BC2_power', 'Diff_temp',\n",
    "           'Hours_sin', 'Hours_cos', 'T_ret'] \n",
    "\n",
    "y_column = ['T_ret_in_1h']\n",
    "\n",
    "all_columns = x_columns + y_column\n",
    "\n",
    "df_for_prediction = pd.concat(dfs_for_prediction, ignore_index=True)\n",
    "df_for_prediction = df_for_prediction[all_columns]\n",
    "print(df_for_prediction.shape)\n",
    "df_for_prediction.head()"
   ]
  }
 ],
 "metadata": {
  "kernelspec": {
   "display_name": "Python 3",
   "language": "python",
   "name": "python3"
  },
  "language_info": {
   "codemirror_mode": {
    "name": "ipython",
    "version": 3
   },
   "file_extension": ".py",
   "mimetype": "text/x-python",
   "name": "python",
   "nbconvert_exporter": "python",
   "pygments_lexer": "ipython3",
   "version": "3.11.0"
  }
 },
 "nbformat": 4,
 "nbformat_minor": 2
}
