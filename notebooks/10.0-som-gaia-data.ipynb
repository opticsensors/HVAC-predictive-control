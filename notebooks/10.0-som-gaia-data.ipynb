{
 "cells": [
  {
   "cell_type": "markdown",
   "metadata": {},
   "source": [
    "# IMPORTS"
   ]
  },
  {
   "cell_type": "code",
   "execution_count": 1,
   "metadata": {},
   "outputs": [
    {
     "name": "stdout",
     "output_type": "stream",
     "text": [
      "(203206, 13)\n"
     ]
    },
    {
     "data": {
      "text/html": [
       "<div>\n",
       "<style scoped>\n",
       "    .dataframe tbody tr th:only-of-type {\n",
       "        vertical-align: middle;\n",
       "    }\n",
       "\n",
       "    .dataframe tbody tr th {\n",
       "        vertical-align: top;\n",
       "    }\n",
       "\n",
       "    .dataframe thead th {\n",
       "        text-align: right;\n",
       "    }\n",
       "</style>\n",
       "<table border=\"1\" class=\"dataframe\">\n",
       "  <thead>\n",
       "    <tr style=\"text-align: right;\">\n",
       "      <th></th>\n",
       "      <th>Unnamed: 0</th>\n",
       "      <th>T_ext</th>\n",
       "      <th>Solar_irrad</th>\n",
       "      <th>T_imp</th>\n",
       "      <th>T_ret</th>\n",
       "      <th>BC1_power</th>\n",
       "      <th>BC2_power</th>\n",
       "      <th>Refr1_power</th>\n",
       "      <th>Refr2_power</th>\n",
       "      <th>BC1_flow</th>\n",
       "      <th>BC2_flow</th>\n",
       "      <th>Refr1_flow</th>\n",
       "      <th>Refr2_flow</th>\n",
       "    </tr>\n",
       "  </thead>\n",
       "  <tbody>\n",
       "    <tr>\n",
       "      <th>0</th>\n",
       "      <td>2022-05-13 12:00:00+00:00</td>\n",
       "      <td>24.40</td>\n",
       "      <td>874.0</td>\n",
       "      <td>9.880005</td>\n",
       "      <td>10.869995</td>\n",
       "      <td>3.05</td>\n",
       "      <td>16.5</td>\n",
       "      <td>15.70</td>\n",
       "      <td>0.25</td>\n",
       "      <td>2923.0</td>\n",
       "      <td>2476.0</td>\n",
       "      <td>0.0</td>\n",
       "      <td>3153.0</td>\n",
       "    </tr>\n",
       "    <tr>\n",
       "      <th>1</th>\n",
       "      <td>2022-05-13 12:01:00+00:00</td>\n",
       "      <td>NaN</td>\n",
       "      <td>NaN</td>\n",
       "      <td>NaN</td>\n",
       "      <td>NaN</td>\n",
       "      <td>3.05</td>\n",
       "      <td>16.3</td>\n",
       "      <td>15.70</td>\n",
       "      <td>0.25</td>\n",
       "      <td>2923.0</td>\n",
       "      <td>2476.0</td>\n",
       "      <td>0.0</td>\n",
       "      <td>3153.0</td>\n",
       "    </tr>\n",
       "    <tr>\n",
       "      <th>2</th>\n",
       "      <td>2022-05-13 12:02:00+00:00</td>\n",
       "      <td>24.35</td>\n",
       "      <td>875.0</td>\n",
       "      <td>9.940002</td>\n",
       "      <td>10.750000</td>\n",
       "      <td>3.10</td>\n",
       "      <td>16.4</td>\n",
       "      <td>15.75</td>\n",
       "      <td>0.30</td>\n",
       "      <td>2793.0</td>\n",
       "      <td>2476.0</td>\n",
       "      <td>0.0</td>\n",
       "      <td>3211.0</td>\n",
       "    </tr>\n",
       "    <tr>\n",
       "      <th>3</th>\n",
       "      <td>2022-05-13 12:03:00+00:00</td>\n",
       "      <td>NaN</td>\n",
       "      <td>NaN</td>\n",
       "      <td>NaN</td>\n",
       "      <td>NaN</td>\n",
       "      <td>3.10</td>\n",
       "      <td>16.5</td>\n",
       "      <td>15.65</td>\n",
       "      <td>0.25</td>\n",
       "      <td>2793.0</td>\n",
       "      <td>2606.0</td>\n",
       "      <td>0.0</td>\n",
       "      <td>3196.0</td>\n",
       "    </tr>\n",
       "    <tr>\n",
       "      <th>4</th>\n",
       "      <td>2022-05-13 12:04:00+00:00</td>\n",
       "      <td>24.51</td>\n",
       "      <td>875.0</td>\n",
       "      <td>9.940002</td>\n",
       "      <td>10.899994</td>\n",
       "      <td>3.05</td>\n",
       "      <td>16.4</td>\n",
       "      <td>15.55</td>\n",
       "      <td>0.25</td>\n",
       "      <td>2779.0</td>\n",
       "      <td>2505.0</td>\n",
       "      <td>0.0</td>\n",
       "      <td>3196.0</td>\n",
       "    </tr>\n",
       "  </tbody>\n",
       "</table>\n",
       "</div>"
      ],
      "text/plain": [
       "                  Unnamed: 0  T_ext  Solar_irrad     T_imp      T_ret  \\\n",
       "0  2022-05-13 12:00:00+00:00  24.40        874.0  9.880005  10.869995   \n",
       "1  2022-05-13 12:01:00+00:00    NaN          NaN       NaN        NaN   \n",
       "2  2022-05-13 12:02:00+00:00  24.35        875.0  9.940002  10.750000   \n",
       "3  2022-05-13 12:03:00+00:00    NaN          NaN       NaN        NaN   \n",
       "4  2022-05-13 12:04:00+00:00  24.51        875.0  9.940002  10.899994   \n",
       "\n",
       "   BC1_power  BC2_power  Refr1_power  Refr2_power  BC1_flow  BC2_flow  \\\n",
       "0       3.05       16.5        15.70         0.25    2923.0    2476.0   \n",
       "1       3.05       16.3        15.70         0.25    2923.0    2476.0   \n",
       "2       3.10       16.4        15.75         0.30    2793.0    2476.0   \n",
       "3       3.10       16.5        15.65         0.25    2793.0    2606.0   \n",
       "4       3.05       16.4        15.55         0.25    2779.0    2505.0   \n",
       "\n",
       "   Refr1_flow  Refr2_flow  \n",
       "0         0.0      3153.0  \n",
       "1         0.0      3153.0  \n",
       "2         0.0      3211.0  \n",
       "3         0.0      3196.0  \n",
       "4         0.0      3196.0  "
      ]
     },
     "execution_count": 1,
     "metadata": {},
     "output_type": "execute_result"
    }
   ],
   "source": [
    "from hvac_control.data import load_data\n",
    "df = load_data(\"gaia_data.csv\", header_names=None)\n",
    "print(df.shape)\n",
    "df.head()"
   ]
  },
  {
   "cell_type": "markdown",
   "metadata": {},
   "source": [
    "# PREPROCESSING"
   ]
  },
  {
   "cell_type": "code",
   "execution_count": 6,
   "metadata": {},
   "outputs": [],
   "source": [
    "from hvac_control.preprocessing import *\n",
    "\n",
    "columns = ['T_ext', 'Solar_irrad', 'T_imp', \n",
    "           'BC1_power', 'BC2_power', 'Refr1_power', \n",
    "           'Refr2_power', 'BC1_flow', 'BC2_flow', \n",
    "           'Refr1_flow', 'Refr2_flow', 'T_ret']\n",
    "\n",
    "max_minutes=30\n",
    "rows_to_skip=2\n",
    "max_consecutive_nans=30\n",
    "thresh_len=1000\n",
    "\n",
    "dfs = first_preprocessing_step(df, max_minutes, rows_to_skip, max_consecutive_nans, thresh_len, columns)"
   ]
  },
  {
   "cell_type": "markdown",
   "metadata": {},
   "source": [
    "Use all data from a cleaned dataframe"
   ]
  },
  {
   "cell_type": "code",
   "execution_count": 7,
   "metadata": {},
   "outputs": [
    {
     "name": "stdout",
     "output_type": "stream",
     "text": [
      "(15862, 12)\n"
     ]
    }
   ],
   "source": [
    "choosen_df=1\n",
    "df_index = dfs[choosen_df]\n",
    "print(df_index.shape)\n"
   ]
  },
  {
   "cell_type": "markdown",
   "metadata": {},
   "source": [
    "Use only weekday data from a cleaned dataframe (weekends removed)"
   ]
  },
  {
   "cell_type": "code",
   "execution_count": 9,
   "metadata": {},
   "outputs": [
    {
     "name": "stdout",
     "output_type": "stream",
     "text": [
      "(11542, 15)\n"
     ]
    }
   ],
   "source": [
    "dfs_weekdays = remove_weekends(df_index)\n",
    "df_concat = pd.concat(dfs_weekdays)\n",
    "print(df_concat.shape)"
   ]
  },
  {
   "cell_type": "markdown",
   "metadata": {},
   "source": [
    "# SOM"
   ]
  },
  {
   "cell_type": "code",
   "execution_count": 24,
   "metadata": {},
   "outputs": [],
   "source": [
    "df_to_study = df_concat.copy()"
   ]
  },
  {
   "cell_type": "markdown",
   "metadata": {},
   "source": [
    "## Remove non linear columns"
   ]
  },
  {
   "cell_type": "code",
   "execution_count": 25,
   "metadata": {},
   "outputs": [],
   "source": [
    "#x_columns = ['T_ext', 'Solar_irrad', 'T_imp', \n",
    "#           'BC1_power', 'BC2_power', 'Refr1_power', \n",
    "#           'Refr2_power', 'BC1_flow', 'BC2_flow', \n",
    "#           'Refr1_flow', 'Refr2_flow']\n",
    "\n",
    "x_columns = ['T_ext', 'Solar_irrad', 'T_imp', \n",
    "           'BC1_power', 'BC2_power', 'Refr1_power', \n",
    "           'BC1_flow', 'BC2_flow', \n",
    "           'Refr2_flow']\n",
    "\n",
    "y_column = ['T_ret']\n",
    "\n",
    "all_columns = x_columns + y_column"
   ]
  },
  {
   "cell_type": "markdown",
   "metadata": {},
   "source": [
    "## Split"
   ]
  },
  {
   "cell_type": "code",
   "execution_count": 26,
   "metadata": {},
   "outputs": [
    {
     "name": "stdout",
     "output_type": "stream",
     "text": [
      "x train shape:  (9233, 9)\n",
      "y train shape:  (9233, 1)\n",
      "x test shape:  (2309, 9)\n",
      "x test shape:  (2309, 1)\n"
     ]
    }
   ],
   "source": [
    "from sklearn.model_selection import train_test_split\n",
    "\n",
    "X=df_to_study[x_columns].to_numpy()\n",
    "y=df_to_study[y_column].to_numpy()\n",
    "\n",
    "# train and test split\n",
    "train_x, test_x, train_y, test_y = train_test_split(X, y, test_size=0.2, random_state=42)\n",
    "print('x train shape: ', train_x.shape)\n",
    "print('y train shape: ', train_y.shape) \n",
    "print('x test shape: ', test_x.shape)\n",
    "print('x test shape: ', test_y.shape)"
   ]
  },
  {
   "cell_type": "markdown",
   "metadata": {},
   "source": [
    "## Scale"
   ]
  },
  {
   "cell_type": "code",
   "execution_count": 27,
   "metadata": {},
   "outputs": [],
   "source": [
    "from hvac_control.preprocessing import minmax_scaler_given_parameters, std_scaler_given_parameters\n",
    "\n",
    "max_val = train_x.max()\n",
    "min_val = train_x.min()\n",
    "mu = train_x.mean(0)\n",
    "s = train_x.std(0)\n",
    "\n",
    "#train_x_norm = minmax_scaler_given_parameters(train_x, min_val, max_val)\n",
    "#test_x_norm = minmax_scaler_given_parameters(test_x, min_val, max_val)\n",
    "\n",
    "train_x_norm = std_scaler_given_parameters(train_x, mu, s)\n",
    "test_x_norm = std_scaler_given_parameters(test_x, mu, s)"
   ]
  },
  {
   "cell_type": "markdown",
   "metadata": {},
   "source": [
    "## Training"
   ]
  },
  {
   "cell_type": "code",
   "execution_count": 28,
   "metadata": {},
   "outputs": [],
   "source": [
    "from hvac_control.som import SOM\n",
    "\n",
    "model=SOM(som_grid_size=(20,20),\n",
    "          max_distance=6,\n",
    "          learning_rate_0=0.5,\n",
    "          max_iter=100000,\n",
    "          random_state=0,\n",
    "          sigma_0=1, \n",
    "          sigma_decay=0.0005,\n",
    "          learning_rate_decay=0.0005,\n",
    "          methods={'init_som': 'uniform',\n",
    "                  'bmu_distance': 'cityblock',\n",
    "                  'compute_neighborhood': 'ceil',\n",
    "                  'update_sigma_and_learning_rate': 'linear'}) \n",
    "model=model.fit(train_x_norm, epochs=8)\n",
    "som=model.som\n",
    "som_dataset=som.reshape(-1,som.shape[2])"
   ]
  },
  {
   "cell_type": "code",
   "execution_count": 84,
   "metadata": {},
   "outputs": [],
   "source": [
    "from minisom import MiniSom    \n",
    "model2 = MiniSom(20, 20, 11, sigma=2, learning_rate=.5, \n",
    "                 neighborhood_function='gaussian', \n",
    "                 topology='rectangular',\n",
    "                 activation_distance='euclidean', \n",
    "                 random_seed=None) \n",
    "model2.train(train_x_norm, 20000) \n",
    "som2=model2.get_weights()\n",
    "som_dataset=som2.reshape(-1,som2.shape[2])"
   ]
  },
  {
   "cell_type": "code",
   "execution_count": 29,
   "metadata": {},
   "outputs": [
    {
     "name": "stdout",
     "output_type": "stream",
     "text": [
      "SOM data 2D: Total = 0.850181457723548 and per components = [0.7704204  0.07976106]\n",
      "Train data 2D: Total = 0.8545276687051733 and per components = [0.76863491 0.08589276]\n"
     ]
    },
    {
     "data": {
      "image/png": "[encoded data removed]",
      "text/plain": [
       "<Figure size 640x480 with 1 Axes>"
      ]
     },
     "metadata": {},
     "output_type": "display_data"
    },
    {
     "name": "stdout",
     "output_type": "stream",
     "text": [
      "quantization error =  0.1758133787282236\n"
     ]
    }
   ],
   "source": [
    "from sklearn.decomposition import PCA\n",
    "from hvac_control.som_metrics import SOMmetrics\n",
    "\n",
    "# 2D vizualization\n",
    "pca = PCA(n_components = 2)\n",
    "pca_som = pca.fit_transform(som_dataset)\n",
    "\n",
    "# Amount of explained variance kept 2D\n",
    "exp_variance_2d = pca.explained_variance_ratio_\n",
    "print(f\"SOM data 2D: Total = {np.sum(exp_variance_2d)} and per components = {exp_variance_2d}\")\n",
    "\n",
    "# 3D vizualization\n",
    "pca_train = pca.fit_transform(train_x_norm)\n",
    "exp_variance_2d = pca.explained_variance_ratio_\n",
    "print(f\"Train data 2D: Total = {np.sum(exp_variance_2d)} and per components = {exp_variance_2d}\")\n",
    "\n",
    "# Plot of the 2D PCA results\n",
    "fig, ax = plt.subplots()\n",
    "\n",
    "ax.scatter(pca_train[:,0], pca_train[:,1], color=\"red\", label=\"train data\", edgecolors='none')\n",
    "ax.scatter(pca_som[:,0], pca_som[:,1], color=\"orange\", label=\"som weights\", edgecolors='none')\n",
    "ax.legend()\n",
    "ax.grid(True)\n",
    "fig.suptitle(f\"PCA with exp variance = {round(np.sum(exp_variance_2d), 2)}\")\n",
    "plt.show()\n",
    "\n",
    "metrics=SOMmetrics(model.som)\n",
    "print('quantization error = ',metrics.quantization_error(train_x_norm, som))"
   ]
  }
 ],
 "metadata": {
  "kernelspec": {
   "display_name": "Python 3",
   "language": "python",
   "name": "python3"
  },
  "language_info": {
   "codemirror_mode": {
    "name": "ipython",
    "version": 3
   },
   "file_extension": ".py",
   "mimetype": "text/x-python",
   "name": "python",
   "nbconvert_exporter": "python",
   "pygments_lexer": "ipython3",
   "version": "3.11.0"
  }
 },
 "nbformat": 4,
 "nbformat_minor": 2
}
