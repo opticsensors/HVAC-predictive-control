{
 "cells": [
  {
   "cell_type": "markdown",
   "metadata": {},
   "source": [
    "# IMPORTS"
   ]
  },
  {
   "cell_type": "markdown",
   "metadata": {},
   "source": [
    "## Libraries"
   ]
  },
  {
   "cell_type": "code",
   "execution_count": 1,
   "metadata": {},
   "outputs": [],
   "source": [
    "import numpy as np\n",
    "import matplotlib.pyplot as plt\n",
    "import pandas as pd"
   ]
  },
  {
   "cell_type": "markdown",
   "metadata": {},
   "source": [
    "## Data"
   ]
  },
  {
   "cell_type": "code",
   "execution_count": 2,
   "metadata": {},
   "outputs": [
    {
     "name": "stdout",
     "output_type": "stream",
     "text": [
      "(203206, 13)\n"
     ]
    },
    {
     "data": {
      "text/html": [
       "<div>\n",
       "<style scoped>\n",
       "    .dataframe tbody tr th:only-of-type {\n",
       "        vertical-align: middle;\n",
       "    }\n",
       "\n",
       "    .dataframe tbody tr th {\n",
       "        vertical-align: top;\n",
       "    }\n",
       "\n",
       "    .dataframe thead th {\n",
       "        text-align: right;\n",
       "    }\n",
       "</style>\n",
       "<table border=\"1\" class=\"dataframe\">\n",
       "  <thead>\n",
       "    <tr style=\"text-align: right;\">\n",
       "      <th></th>\n",
       "      <th>Unnamed: 0</th>\n",
       "      <th>T_ext</th>\n",
       "      <th>Solar_irrad</th>\n",
       "      <th>T_imp</th>\n",
       "      <th>T_ret</th>\n",
       "      <th>BC1_power</th>\n",
       "      <th>BC2_power</th>\n",
       "      <th>Refr1_power</th>\n",
       "      <th>Refr2_power</th>\n",
       "      <th>BC1_flow</th>\n",
       "      <th>BC2_flow</th>\n",
       "      <th>Refr1_flow</th>\n",
       "      <th>Refr2_flow</th>\n",
       "    </tr>\n",
       "  </thead>\n",
       "  <tbody>\n",
       "    <tr>\n",
       "      <th>0</th>\n",
       "      <td>2022-05-13 12:00:00+00:00</td>\n",
       "      <td>24.40</td>\n",
       "      <td>874.0</td>\n",
       "      <td>9.880005</td>\n",
       "      <td>10.869995</td>\n",
       "      <td>3.05</td>\n",
       "      <td>16.5</td>\n",
       "      <td>15.70</td>\n",
       "      <td>0.25</td>\n",
       "      <td>2923.0</td>\n",
       "      <td>2476.0</td>\n",
       "      <td>0.0</td>\n",
       "      <td>3153.0</td>\n",
       "    </tr>\n",
       "    <tr>\n",
       "      <th>1</th>\n",
       "      <td>2022-05-13 12:01:00+00:00</td>\n",
       "      <td>NaN</td>\n",
       "      <td>NaN</td>\n",
       "      <td>NaN</td>\n",
       "      <td>NaN</td>\n",
       "      <td>3.05</td>\n",
       "      <td>16.3</td>\n",
       "      <td>15.70</td>\n",
       "      <td>0.25</td>\n",
       "      <td>2923.0</td>\n",
       "      <td>2476.0</td>\n",
       "      <td>0.0</td>\n",
       "      <td>3153.0</td>\n",
       "    </tr>\n",
       "    <tr>\n",
       "      <th>2</th>\n",
       "      <td>2022-05-13 12:02:00+00:00</td>\n",
       "      <td>24.35</td>\n",
       "      <td>875.0</td>\n",
       "      <td>9.940002</td>\n",
       "      <td>10.750000</td>\n",
       "      <td>3.10</td>\n",
       "      <td>16.4</td>\n",
       "      <td>15.75</td>\n",
       "      <td>0.30</td>\n",
       "      <td>2793.0</td>\n",
       "      <td>2476.0</td>\n",
       "      <td>0.0</td>\n",
       "      <td>3211.0</td>\n",
       "    </tr>\n",
       "    <tr>\n",
       "      <th>3</th>\n",
       "      <td>2022-05-13 12:03:00+00:00</td>\n",
       "      <td>NaN</td>\n",
       "      <td>NaN</td>\n",
       "      <td>NaN</td>\n",
       "      <td>NaN</td>\n",
       "      <td>3.10</td>\n",
       "      <td>16.5</td>\n",
       "      <td>15.65</td>\n",
       "      <td>0.25</td>\n",
       "      <td>2793.0</td>\n",
       "      <td>2606.0</td>\n",
       "      <td>0.0</td>\n",
       "      <td>3196.0</td>\n",
       "    </tr>\n",
       "    <tr>\n",
       "      <th>4</th>\n",
       "      <td>2022-05-13 12:04:00+00:00</td>\n",
       "      <td>24.51</td>\n",
       "      <td>875.0</td>\n",
       "      <td>9.940002</td>\n",
       "      <td>10.899994</td>\n",
       "      <td>3.05</td>\n",
       "      <td>16.4</td>\n",
       "      <td>15.55</td>\n",
       "      <td>0.25</td>\n",
       "      <td>2779.0</td>\n",
       "      <td>2505.0</td>\n",
       "      <td>0.0</td>\n",
       "      <td>3196.0</td>\n",
       "    </tr>\n",
       "  </tbody>\n",
       "</table>\n",
       "</div>"
      ],
      "text/plain": [
       "                  Unnamed: 0  T_ext  Solar_irrad     T_imp      T_ret  \\\n",
       "0  2022-05-13 12:00:00+00:00  24.40        874.0  9.880005  10.869995   \n",
       "1  2022-05-13 12:01:00+00:00    NaN          NaN       NaN        NaN   \n",
       "2  2022-05-13 12:02:00+00:00  24.35        875.0  9.940002  10.750000   \n",
       "3  2022-05-13 12:03:00+00:00    NaN          NaN       NaN        NaN   \n",
       "4  2022-05-13 12:04:00+00:00  24.51        875.0  9.940002  10.899994   \n",
       "\n",
       "   BC1_power  BC2_power  Refr1_power  Refr2_power  BC1_flow  BC2_flow  \\\n",
       "0       3.05       16.5        15.70         0.25    2923.0    2476.0   \n",
       "1       3.05       16.3        15.70         0.25    2923.0    2476.0   \n",
       "2       3.10       16.4        15.75         0.30    2793.0    2476.0   \n",
       "3       3.10       16.5        15.65         0.25    2793.0    2606.0   \n",
       "4       3.05       16.4        15.55         0.25    2779.0    2505.0   \n",
       "\n",
       "   Refr1_flow  Refr2_flow  \n",
       "0         0.0      3153.0  \n",
       "1         0.0      3153.0  \n",
       "2         0.0      3211.0  \n",
       "3         0.0      3196.0  \n",
       "4         0.0      3196.0  "
      ]
     },
     "execution_count": 2,
     "metadata": {},
     "output_type": "execute_result"
    }
   ],
   "source": [
    "from hvac_control.data import load_data\n",
    "df = load_data(\"gaia_data.csv\", header_names=None)\n",
    "print(df.shape)\n",
    "df.head()"
   ]
  },
  {
   "cell_type": "markdown",
   "metadata": {},
   "source": [
    "Comments dataset varaibles:\n",
    "- T_ext: Exterior temperature [ºC]. Sampling interval: 2 minutes.\n",
    "- Solar_irrad: Solar irradiation [W/m²]. Sampling interval: 2 minutes.\n",
    "- T_imp and T_ret: Supply (into the space) and return (to the HVAC) temperatures of the cold air ducts [ºC]. Sampling interval: 2 minutes.\n",
    "- BC1_power, BC2_power, Refr1_power, Refr2_power: Power of the cooling machines [kW]. Sampling interval: 1 minute.\n",
    "- BC1_flow, BC2_flow, Refr1_flow, Refr2_flow: Airflow of the cooling machines [m³/h]. Sampling interval: 1 minute."
   ]
  },
  {
   "cell_type": "markdown",
   "metadata": {},
   "source": [
    "In an HVAC context, these variables are interrelated. For instance, on a day with high solar irradiation and high exterior temperature (T_ext), the HVAC system might need to increase the cooling power (reflected in higher BC1_power, BC2_power, etc.) and adjust the airflow rates (BC1_flow, BC2_flow, etc.) to maintain a comfortable indoor environment. Additionally, the difference in supply and return air temperatures (T_imp and T_ret) can be used to assess the thermal load and the efficiency of the cooling process."
   ]
  },
  {
   "cell_type": "markdown",
   "metadata": {},
   "source": [
    "Comments data processing:\n",
    "- Consider the return temperature (T_ret) as the target signal.\n",
    "- Keep in mind that you need to perform some basic formatting and cleaning steps in which you identify outliers and missing data. In both cases, we suggest applying interpolation using nearby values. Specifically, regarding the discrepancy in sampling periods, we suggest using records that have all the data, with a 2-minute period.\n",
    "- Since the HVAC system actions are linked to weather conditions, we suggest using data from the same month for training and validation. If you don't do this and train with some months and validate with others, you are likely to observe different dynamics and it would be difficult to find any correlation."
   ]
  },
  {
   "cell_type": "markdown",
   "metadata": {},
   "source": [
    "# Date data precessing"
   ]
  },
  {
   "cell_type": "markdown",
   "metadata": {},
   "source": [
    "Things to take into account:\n",
    "- Valid date strings can be converted to datetime objects using to_datetime function or as part of read functions.\n",
    "- Datetime objects in pandas support calculations, logical operations and convenient date-related properties using the dt accessor.\n",
    "- A DatetimeIndex contains these date-related properties and supports convenient slicing.\n",
    "- Resample is a powerful method to change the frequency of a time series."
   ]
  },
  {
   "cell_type": "markdown",
   "metadata": {},
   "source": [
    "Work with the dates as datetime objects and create new columns with month, day hour, etc information"
   ]
  },
  {
   "cell_type": "code",
   "execution_count": 3,
   "metadata": {},
   "outputs": [
    {
     "data": {
      "text/html": [
       "<div>\n",
       "<style scoped>\n",
       "    .dataframe tbody tr th:only-of-type {\n",
       "        vertical-align: middle;\n",
       "    }\n",
       "\n",
       "    .dataframe tbody tr th {\n",
       "        vertical-align: top;\n",
       "    }\n",
       "\n",
       "    .dataframe thead th {\n",
       "        text-align: right;\n",
       "    }\n",
       "</style>\n",
       "<table border=\"1\" class=\"dataframe\">\n",
       "  <thead>\n",
       "    <tr style=\"text-align: right;\">\n",
       "      <th></th>\n",
       "      <th>datetime</th>\n",
       "      <th>T_ext</th>\n",
       "      <th>Solar_irrad</th>\n",
       "      <th>T_imp</th>\n",
       "      <th>T_ret</th>\n",
       "      <th>BC1_power</th>\n",
       "      <th>BC2_power</th>\n",
       "      <th>Refr1_power</th>\n",
       "      <th>Refr2_power</th>\n",
       "      <th>BC1_flow</th>\n",
       "      <th>BC2_flow</th>\n",
       "      <th>Refr1_flow</th>\n",
       "      <th>Refr2_flow</th>\n",
       "      <th>day</th>\n",
       "      <th>dayofweek</th>\n",
       "      <th>month</th>\n",
       "      <th>hour</th>\n",
       "      <th>minute</th>\n",
       "    </tr>\n",
       "  </thead>\n",
       "  <tbody>\n",
       "    <tr>\n",
       "      <th>0</th>\n",
       "      <td>2022-05-13 12:00:00+00:00</td>\n",
       "      <td>24.40</td>\n",
       "      <td>874.0</td>\n",
       "      <td>9.880005</td>\n",
       "      <td>10.869995</td>\n",
       "      <td>3.05</td>\n",
       "      <td>16.5</td>\n",
       "      <td>15.70</td>\n",
       "      <td>0.25</td>\n",
       "      <td>2923.0</td>\n",
       "      <td>2476.0</td>\n",
       "      <td>0.0</td>\n",
       "      <td>3153.0</td>\n",
       "      <td>13</td>\n",
       "      <td>4</td>\n",
       "      <td>5</td>\n",
       "      <td>12</td>\n",
       "      <td>0</td>\n",
       "    </tr>\n",
       "    <tr>\n",
       "      <th>1</th>\n",
       "      <td>2022-05-13 12:01:00+00:00</td>\n",
       "      <td>NaN</td>\n",
       "      <td>NaN</td>\n",
       "      <td>NaN</td>\n",
       "      <td>NaN</td>\n",
       "      <td>3.05</td>\n",
       "      <td>16.3</td>\n",
       "      <td>15.70</td>\n",
       "      <td>0.25</td>\n",
       "      <td>2923.0</td>\n",
       "      <td>2476.0</td>\n",
       "      <td>0.0</td>\n",
       "      <td>3153.0</td>\n",
       "      <td>13</td>\n",
       "      <td>4</td>\n",
       "      <td>5</td>\n",
       "      <td>12</td>\n",
       "      <td>1</td>\n",
       "    </tr>\n",
       "    <tr>\n",
       "      <th>2</th>\n",
       "      <td>2022-05-13 12:02:00+00:00</td>\n",
       "      <td>24.35</td>\n",
       "      <td>875.0</td>\n",
       "      <td>9.940002</td>\n",
       "      <td>10.750000</td>\n",
       "      <td>3.10</td>\n",
       "      <td>16.4</td>\n",
       "      <td>15.75</td>\n",
       "      <td>0.30</td>\n",
       "      <td>2793.0</td>\n",
       "      <td>2476.0</td>\n",
       "      <td>0.0</td>\n",
       "      <td>3211.0</td>\n",
       "      <td>13</td>\n",
       "      <td>4</td>\n",
       "      <td>5</td>\n",
       "      <td>12</td>\n",
       "      <td>2</td>\n",
       "    </tr>\n",
       "    <tr>\n",
       "      <th>3</th>\n",
       "      <td>2022-05-13 12:03:00+00:00</td>\n",
       "      <td>NaN</td>\n",
       "      <td>NaN</td>\n",
       "      <td>NaN</td>\n",
       "      <td>NaN</td>\n",
       "      <td>3.10</td>\n",
       "      <td>16.5</td>\n",
       "      <td>15.65</td>\n",
       "      <td>0.25</td>\n",
       "      <td>2793.0</td>\n",
       "      <td>2606.0</td>\n",
       "      <td>0.0</td>\n",
       "      <td>3196.0</td>\n",
       "      <td>13</td>\n",
       "      <td>4</td>\n",
       "      <td>5</td>\n",
       "      <td>12</td>\n",
       "      <td>3</td>\n",
       "    </tr>\n",
       "    <tr>\n",
       "      <th>4</th>\n",
       "      <td>2022-05-13 12:04:00+00:00</td>\n",
       "      <td>24.51</td>\n",
       "      <td>875.0</td>\n",
       "      <td>9.940002</td>\n",
       "      <td>10.899994</td>\n",
       "      <td>3.05</td>\n",
       "      <td>16.4</td>\n",
       "      <td>15.55</td>\n",
       "      <td>0.25</td>\n",
       "      <td>2779.0</td>\n",
       "      <td>2505.0</td>\n",
       "      <td>0.0</td>\n",
       "      <td>3196.0</td>\n",
       "      <td>13</td>\n",
       "      <td>4</td>\n",
       "      <td>5</td>\n",
       "      <td>12</td>\n",
       "      <td>4</td>\n",
       "    </tr>\n",
       "  </tbody>\n",
       "</table>\n",
       "</div>"
      ],
      "text/plain": [
       "                   datetime  T_ext  Solar_irrad     T_imp      T_ret  \\\n",
       "0 2022-05-13 12:00:00+00:00  24.40        874.0  9.880005  10.869995   \n",
       "1 2022-05-13 12:01:00+00:00    NaN          NaN       NaN        NaN   \n",
       "2 2022-05-13 12:02:00+00:00  24.35        875.0  9.940002  10.750000   \n",
       "3 2022-05-13 12:03:00+00:00    NaN          NaN       NaN        NaN   \n",
       "4 2022-05-13 12:04:00+00:00  24.51        875.0  9.940002  10.899994   \n",
       "\n",
       "   BC1_power  BC2_power  Refr1_power  Refr2_power  BC1_flow  BC2_flow  \\\n",
       "0       3.05       16.5        15.70         0.25    2923.0    2476.0   \n",
       "1       3.05       16.3        15.70         0.25    2923.0    2476.0   \n",
       "2       3.10       16.4        15.75         0.30    2793.0    2476.0   \n",
       "3       3.10       16.5        15.65         0.25    2793.0    2606.0   \n",
       "4       3.05       16.4        15.55         0.25    2779.0    2505.0   \n",
       "\n",
       "   Refr1_flow  Refr2_flow  day  dayofweek  month  hour  minute  \n",
       "0         0.0      3153.0   13          4      5    12       0  \n",
       "1         0.0      3153.0   13          4      5    12       1  \n",
       "2         0.0      3211.0   13          4      5    12       2  \n",
       "3         0.0      3196.0   13          4      5    12       3  \n",
       "4         0.0      3196.0   13          4      5    12       4  "
      ]
     },
     "execution_count": 3,
     "metadata": {},
     "output_type": "execute_result"
    }
   ],
   "source": [
    "df_date = df.rename(columns={\"Unnamed: 0\": \"datetime\"})\n",
    "df_date[\"datetime\"] = pd.to_datetime(df_date[\"datetime\"])\n",
    "df_date['day'] = df_date['datetime'].dt.day\n",
    "df_date['dayofweek'] = df_date['datetime'].dt.dayofweek \n",
    "df_date['month'] = df_date['datetime'].dt.month\n",
    "df_date['hour'] = df_date['datetime'].dt.hour\n",
    "df_date['minute'] = df_date['datetime'].dt.minute\n",
    "\n",
    "df_date.head()"
   ]
  },
  {
   "cell_type": "markdown",
   "metadata": {},
   "source": [
    "Rearrange the order of the columns"
   ]
  },
  {
   "cell_type": "code",
   "execution_count": 4,
   "metadata": {},
   "outputs": [
    {
     "data": {
      "text/html": [
       "<div>\n",
       "<style scoped>\n",
       "    .dataframe tbody tr th:only-of-type {\n",
       "        vertical-align: middle;\n",
       "    }\n",
       "\n",
       "    .dataframe tbody tr th {\n",
       "        vertical-align: top;\n",
       "    }\n",
       "\n",
       "    .dataframe thead th {\n",
       "        text-align: right;\n",
       "    }\n",
       "</style>\n",
       "<table border=\"1\" class=\"dataframe\">\n",
       "  <thead>\n",
       "    <tr style=\"text-align: right;\">\n",
       "      <th></th>\n",
       "      <th>datetime</th>\n",
       "      <th>dayofweek</th>\n",
       "      <th>day</th>\n",
       "      <th>month</th>\n",
       "      <th>hour</th>\n",
       "      <th>minute</th>\n",
       "      <th>T_ext</th>\n",
       "      <th>Solar_irrad</th>\n",
       "      <th>T_imp</th>\n",
       "      <th>BC1_power</th>\n",
       "      <th>BC2_power</th>\n",
       "      <th>Refr1_power</th>\n",
       "      <th>Refr2_power</th>\n",
       "      <th>BC1_flow</th>\n",
       "      <th>BC2_flow</th>\n",
       "      <th>Refr1_flow</th>\n",
       "      <th>Refr2_flow</th>\n",
       "      <th>T_ret</th>\n",
       "    </tr>\n",
       "  </thead>\n",
       "  <tbody>\n",
       "    <tr>\n",
       "      <th>0</th>\n",
       "      <td>2022-05-13 12:00:00+00:00</td>\n",
       "      <td>4</td>\n",
       "      <td>13</td>\n",
       "      <td>5</td>\n",
       "      <td>12</td>\n",
       "      <td>0</td>\n",
       "      <td>24.40</td>\n",
       "      <td>874.0</td>\n",
       "      <td>9.880005</td>\n",
       "      <td>3.05</td>\n",
       "      <td>16.5</td>\n",
       "      <td>15.70</td>\n",
       "      <td>0.25</td>\n",
       "      <td>2923.0</td>\n",
       "      <td>2476.0</td>\n",
       "      <td>0.0</td>\n",
       "      <td>3153.0</td>\n",
       "      <td>10.869995</td>\n",
       "    </tr>\n",
       "    <tr>\n",
       "      <th>1</th>\n",
       "      <td>2022-05-13 12:01:00+00:00</td>\n",
       "      <td>4</td>\n",
       "      <td>13</td>\n",
       "      <td>5</td>\n",
       "      <td>12</td>\n",
       "      <td>1</td>\n",
       "      <td>NaN</td>\n",
       "      <td>NaN</td>\n",
       "      <td>NaN</td>\n",
       "      <td>3.05</td>\n",
       "      <td>16.3</td>\n",
       "      <td>15.70</td>\n",
       "      <td>0.25</td>\n",
       "      <td>2923.0</td>\n",
       "      <td>2476.0</td>\n",
       "      <td>0.0</td>\n",
       "      <td>3153.0</td>\n",
       "      <td>NaN</td>\n",
       "    </tr>\n",
       "    <tr>\n",
       "      <th>2</th>\n",
       "      <td>2022-05-13 12:02:00+00:00</td>\n",
       "      <td>4</td>\n",
       "      <td>13</td>\n",
       "      <td>5</td>\n",
       "      <td>12</td>\n",
       "      <td>2</td>\n",
       "      <td>24.35</td>\n",
       "      <td>875.0</td>\n",
       "      <td>9.940002</td>\n",
       "      <td>3.10</td>\n",
       "      <td>16.4</td>\n",
       "      <td>15.75</td>\n",
       "      <td>0.30</td>\n",
       "      <td>2793.0</td>\n",
       "      <td>2476.0</td>\n",
       "      <td>0.0</td>\n",
       "      <td>3211.0</td>\n",
       "      <td>10.750000</td>\n",
       "    </tr>\n",
       "    <tr>\n",
       "      <th>3</th>\n",
       "      <td>2022-05-13 12:03:00+00:00</td>\n",
       "      <td>4</td>\n",
       "      <td>13</td>\n",
       "      <td>5</td>\n",
       "      <td>12</td>\n",
       "      <td>3</td>\n",
       "      <td>NaN</td>\n",
       "      <td>NaN</td>\n",
       "      <td>NaN</td>\n",
       "      <td>3.10</td>\n",
       "      <td>16.5</td>\n",
       "      <td>15.65</td>\n",
       "      <td>0.25</td>\n",
       "      <td>2793.0</td>\n",
       "      <td>2606.0</td>\n",
       "      <td>0.0</td>\n",
       "      <td>3196.0</td>\n",
       "      <td>NaN</td>\n",
       "    </tr>\n",
       "    <tr>\n",
       "      <th>4</th>\n",
       "      <td>2022-05-13 12:04:00+00:00</td>\n",
       "      <td>4</td>\n",
       "      <td>13</td>\n",
       "      <td>5</td>\n",
       "      <td>12</td>\n",
       "      <td>4</td>\n",
       "      <td>24.51</td>\n",
       "      <td>875.0</td>\n",
       "      <td>9.940002</td>\n",
       "      <td>3.05</td>\n",
       "      <td>16.4</td>\n",
       "      <td>15.55</td>\n",
       "      <td>0.25</td>\n",
       "      <td>2779.0</td>\n",
       "      <td>2505.0</td>\n",
       "      <td>0.0</td>\n",
       "      <td>3196.0</td>\n",
       "      <td>10.899994</td>\n",
       "    </tr>\n",
       "  </tbody>\n",
       "</table>\n",
       "</div>"
      ],
      "text/plain": [
       "                   datetime  dayofweek  day  month  hour  minute  T_ext  \\\n",
       "0 2022-05-13 12:00:00+00:00          4   13      5    12       0  24.40   \n",
       "1 2022-05-13 12:01:00+00:00          4   13      5    12       1    NaN   \n",
       "2 2022-05-13 12:02:00+00:00          4   13      5    12       2  24.35   \n",
       "3 2022-05-13 12:03:00+00:00          4   13      5    12       3    NaN   \n",
       "4 2022-05-13 12:04:00+00:00          4   13      5    12       4  24.51   \n",
       "\n",
       "   Solar_irrad     T_imp  BC1_power  BC2_power  Refr1_power  Refr2_power  \\\n",
       "0        874.0  9.880005       3.05       16.5        15.70         0.25   \n",
       "1          NaN       NaN       3.05       16.3        15.70         0.25   \n",
       "2        875.0  9.940002       3.10       16.4        15.75         0.30   \n",
       "3          NaN       NaN       3.10       16.5        15.65         0.25   \n",
       "4        875.0  9.940002       3.05       16.4        15.55         0.25   \n",
       "\n",
       "   BC1_flow  BC2_flow  Refr1_flow  Refr2_flow      T_ret  \n",
       "0    2923.0    2476.0         0.0      3153.0  10.869995  \n",
       "1    2923.0    2476.0         0.0      3153.0        NaN  \n",
       "2    2793.0    2476.0         0.0      3211.0  10.750000  \n",
       "3    2793.0    2606.0         0.0      3196.0        NaN  \n",
       "4    2779.0    2505.0         0.0      3196.0  10.899994  "
      ]
     },
     "execution_count": 4,
     "metadata": {},
     "output_type": "execute_result"
    }
   ],
   "source": [
    "column_order_corrected = ['datetime', 'dayofweek', 'day', 'month', 'hour', 'minute', 'T_ext', 'Solar_irrad', 'T_imp', \n",
    "                          'BC1_power', 'BC2_power', 'Refr1_power', 'Refr2_power', 'BC1_flow', 'BC2_flow', 'Refr1_flow', 'Refr2_flow', 'T_ret']\n",
    "\n",
    "df_date_sorted = df_date[column_order_corrected]\n",
    "\n",
    "df_date_sorted.head()"
   ]
  },
  {
   "cell_type": "markdown",
   "metadata": {},
   "source": [
    "## Groupby utility"
   ]
  },
  {
   "cell_type": "markdown",
   "metadata": {},
   "source": [
    "Plot the typical T_ret pattern during the day of our time series. In other words, what is the average value for each hour of the day?"
   ]
  },
  {
   "cell_type": "code",
   "execution_count": 5,
   "metadata": {},
   "outputs": [
    {
     "data": {
      "image/png": "[encoded data removed]",
      "text/plain": [
       "<Figure size 1000x600 with 1 Axes>"
      ]
     },
     "metadata": {},
     "output_type": "display_data"
    }
   ],
   "source": [
    "data_by_hour = df_date_sorted.groupby(df_date_sorted[\"hour\"])[\"T_ret\"].mean()\n",
    "\n",
    "# Plotting the data\n",
    "plt.figure(figsize=(10, 6))\n",
    "plt.bar(data_by_hour.index, data_by_hour, color='skyblue') # data_by_hour is a pandas series, not a dataframe (it does not have column names)\n",
    "plt.xlabel(\"Hour of the Day\")  # Custom x label using Matplotlib\n",
    "plt.ylabel(\"$T_{ret} (ºC)$\")  # Custom y label\n",
    "plt.title(\"Return Temperature ($T_{ret}$) over Hours of the Day\")\n",
    "plt.xticks(range(0, 24))  # Setting x-ticks for each hour\n",
    "plt.grid(True)"
   ]
  },
  {
   "cell_type": "markdown",
   "metadata": {},
   "source": [
    "And what is the average value for each day of the week?"
   ]
  },
  {
   "cell_type": "code",
   "execution_count": 6,
   "metadata": {},
   "outputs": [
    {
     "data": {
      "image/png": "[encoded data removed]",
      "text/plain": [
       "<Figure size 1000x600 with 1 Axes>"
      ]
     },
     "metadata": {},
     "output_type": "display_data"
    }
   ],
   "source": [
    "data_by_hour = df_date_sorted.groupby(df_date_sorted[\"dayofweek\"])[\"T_ret\"].mean()\n",
    "\n",
    "# Plotting the data\n",
    "plt.figure(figsize=(10, 6))\n",
    "plt.bar(data_by_hour.index, data_by_hour, color='skyblue') # data_by_hour is a pandas series, not a dataframe (it does not have column names)\n",
    "plt.xlabel(\"dayofweek\")  # Custom x label using Matplotlib\n",
    "plt.ylabel(\"$T_{ret} (ºC)$\")  # Custom y label\n",
    "plt.title(\"Return Temperature ($T_{ret}$) over Hours of the Day\")\n",
    "plt.xticks(range(0, 7))  # Setting x-ticks for each hour\n",
    "plt.grid(True)"
   ]
  },
  {
   "cell_type": "markdown",
   "metadata": {},
   "source": [
    "What is the average T_ret value for each day of the week for each month?"
   ]
  },
  {
   "cell_type": "code",
   "execution_count": 7,
   "metadata": {},
   "outputs": [],
   "source": [
    "series_by_month_and_day = df_date_sorted.groupby([df_date_sorted[\"month\"], df_date_sorted[\"dayofweek\"]])[\"T_ret\"].mean()\n",
    "df_by_month_and_day = series_by_month_and_day.reset_index(name='T_ret')"
   ]
  },
  {
   "cell_type": "markdown",
   "metadata": {},
   "source": [
    "Plot using pandas"
   ]
  },
  {
   "cell_type": "code",
   "execution_count": 8,
   "metadata": {},
   "outputs": [
    {
     "data": {
      "text/plain": [
       "Text(0.5, 1.0, 'Average T_ret by Day of Week for Each Month')"
      ]
     },
     "execution_count": 8,
     "metadata": {},
     "output_type": "execute_result"
    },
    {
     "data": {
      "image/png": "[encoded data removed]",
      "text/plain": [
       "<Figure size 1200x600 with 1 Axes>"
      ]
     },
     "metadata": {},
     "output_type": "display_data"
    }
   ],
   "source": [
    "# Plotting the series data in a bar diagram\n",
    "# First, unstack the series to create a DataFrame suitable for a bar plot\n",
    "pivot = series_by_month_and_day.unstack(level=-1)\n",
    "\n",
    "# Plotting using pandas built-in plot function\n",
    "ax = pivot.plot(kind='bar', figsize=(12, 6), legend=True)\n",
    "\n",
    "# Setting labels and title\n",
    "ax.set_xlabel('Month')\n",
    "ax.set_ylabel('T_ret')\n",
    "ax.set_title('Average T_ret by Day of Week for Each Month')"
   ]
  },
  {
   "cell_type": "markdown",
   "metadata": {},
   "source": [
    "Plot using matplotlib"
   ]
  },
  {
   "cell_type": "code",
   "execution_count": 9,
   "metadata": {},
   "outputs": [
    {
     "data": {
      "text/plain": [
       "<matplotlib.legend.Legend at 0x23a670b4e50>"
      ]
     },
     "execution_count": 9,
     "metadata": {},
     "output_type": "execute_result"
    },
    {
     "data": {
      "image/png": "[encoded data removed]",
      "text/plain": [
       "<Figure size 1200x600 with 1 Axes>"
      ]
     },
     "metadata": {},
     "output_type": "display_data"
    }
   ],
   "source": [
    "# Now we will plot directly with matplotlib\n",
    "fig, ax = plt.subplots(figsize=(12, 6))\n",
    "\n",
    "# We need to calculate the bar positions and width\n",
    "bar_width = 0.1  # width of bars\n",
    "num_bars = len(pivot.columns)  # number of bars per group\n",
    "total_width = num_bars * bar_width  # total width of a group of bars\n",
    "positions = range(len(pivot))  # positions for the first set of bars\n",
    "\n",
    "# Plotting each set of bars\n",
    "for i in range(num_bars):\n",
    "    ax.bar([p + bar_width * i for p in positions], pivot.iloc[:, i], width=bar_width, label='Day {}'.format(pivot.columns[i]))\n",
    "\n",
    "# Setting the position and labels for the x-axis\n",
    "ax.set_xticks([p + total_width/2 - bar_width/2 for p in positions])\n",
    "ax.set_xticklabels(pivot.index)\n",
    "\n",
    "# Adding labels and title\n",
    "ax.set_xlabel('Month')\n",
    "ax.set_ylabel('T_ret')\n",
    "ax.set_title('Average T_ret by Day of Week for Each Month')\n",
    "ax.legend(title='Day of Week')"
   ]
  },
  {
   "cell_type": "markdown",
   "metadata": {},
   "source": [
    "## Datetime as index"
   ]
  },
  {
   "cell_type": "code",
   "execution_count": 10,
   "metadata": {},
   "outputs": [
    {
     "data": {
      "text/html": [
       "<div>\n",
       "<style scoped>\n",
       "    .dataframe tbody tr th:only-of-type {\n",
       "        vertical-align: middle;\n",
       "    }\n",
       "\n",
       "    .dataframe tbody tr th {\n",
       "        vertical-align: top;\n",
       "    }\n",
       "\n",
       "    .dataframe thead th {\n",
       "        text-align: right;\n",
       "    }\n",
       "</style>\n",
       "<table border=\"1\" class=\"dataframe\">\n",
       "  <thead>\n",
       "    <tr style=\"text-align: right;\">\n",
       "      <th></th>\n",
       "      <th>dayofweek</th>\n",
       "      <th>day</th>\n",
       "      <th>month</th>\n",
       "      <th>hour</th>\n",
       "      <th>minute</th>\n",
       "      <th>T_ext</th>\n",
       "      <th>Solar_irrad</th>\n",
       "      <th>T_imp</th>\n",
       "      <th>BC1_power</th>\n",
       "      <th>BC2_power</th>\n",
       "      <th>Refr1_power</th>\n",
       "      <th>Refr2_power</th>\n",
       "      <th>BC1_flow</th>\n",
       "      <th>BC2_flow</th>\n",
       "      <th>Refr1_flow</th>\n",
       "      <th>Refr2_flow</th>\n",
       "      <th>T_ret</th>\n",
       "    </tr>\n",
       "    <tr>\n",
       "      <th>datetime</th>\n",
       "      <th></th>\n",
       "      <th></th>\n",
       "      <th></th>\n",
       "      <th></th>\n",
       "      <th></th>\n",
       "      <th></th>\n",
       "      <th></th>\n",
       "      <th></th>\n",
       "      <th></th>\n",
       "      <th></th>\n",
       "      <th></th>\n",
       "      <th></th>\n",
       "      <th></th>\n",
       "      <th></th>\n",
       "      <th></th>\n",
       "      <th></th>\n",
       "      <th></th>\n",
       "    </tr>\n",
       "  </thead>\n",
       "  <tbody>\n",
       "    <tr>\n",
       "      <th>2022-05-13 12:00:00+00:00</th>\n",
       "      <td>4</td>\n",
       "      <td>13</td>\n",
       "      <td>5</td>\n",
       "      <td>12</td>\n",
       "      <td>0</td>\n",
       "      <td>24.40</td>\n",
       "      <td>874.0</td>\n",
       "      <td>9.880005</td>\n",
       "      <td>3.05</td>\n",
       "      <td>16.5</td>\n",
       "      <td>15.70</td>\n",
       "      <td>0.25</td>\n",
       "      <td>2923.0</td>\n",
       "      <td>2476.0</td>\n",
       "      <td>0.0</td>\n",
       "      <td>3153.0</td>\n",
       "      <td>10.869995</td>\n",
       "    </tr>\n",
       "    <tr>\n",
       "      <th>2022-05-13 12:01:00+00:00</th>\n",
       "      <td>4</td>\n",
       "      <td>13</td>\n",
       "      <td>5</td>\n",
       "      <td>12</td>\n",
       "      <td>1</td>\n",
       "      <td>NaN</td>\n",
       "      <td>NaN</td>\n",
       "      <td>NaN</td>\n",
       "      <td>3.05</td>\n",
       "      <td>16.3</td>\n",
       "      <td>15.70</td>\n",
       "      <td>0.25</td>\n",
       "      <td>2923.0</td>\n",
       "      <td>2476.0</td>\n",
       "      <td>0.0</td>\n",
       "      <td>3153.0</td>\n",
       "      <td>NaN</td>\n",
       "    </tr>\n",
       "    <tr>\n",
       "      <th>2022-05-13 12:02:00+00:00</th>\n",
       "      <td>4</td>\n",
       "      <td>13</td>\n",
       "      <td>5</td>\n",
       "      <td>12</td>\n",
       "      <td>2</td>\n",
       "      <td>24.35</td>\n",
       "      <td>875.0</td>\n",
       "      <td>9.940002</td>\n",
       "      <td>3.10</td>\n",
       "      <td>16.4</td>\n",
       "      <td>15.75</td>\n",
       "      <td>0.30</td>\n",
       "      <td>2793.0</td>\n",
       "      <td>2476.0</td>\n",
       "      <td>0.0</td>\n",
       "      <td>3211.0</td>\n",
       "      <td>10.750000</td>\n",
       "    </tr>\n",
       "    <tr>\n",
       "      <th>2022-05-13 12:03:00+00:00</th>\n",
       "      <td>4</td>\n",
       "      <td>13</td>\n",
       "      <td>5</td>\n",
       "      <td>12</td>\n",
       "      <td>3</td>\n",
       "      <td>NaN</td>\n",
       "      <td>NaN</td>\n",
       "      <td>NaN</td>\n",
       "      <td>3.10</td>\n",
       "      <td>16.5</td>\n",
       "      <td>15.65</td>\n",
       "      <td>0.25</td>\n",
       "      <td>2793.0</td>\n",
       "      <td>2606.0</td>\n",
       "      <td>0.0</td>\n",
       "      <td>3196.0</td>\n",
       "      <td>NaN</td>\n",
       "    </tr>\n",
       "    <tr>\n",
       "      <th>2022-05-13 12:04:00+00:00</th>\n",
       "      <td>4</td>\n",
       "      <td>13</td>\n",
       "      <td>5</td>\n",
       "      <td>12</td>\n",
       "      <td>4</td>\n",
       "      <td>24.51</td>\n",
       "      <td>875.0</td>\n",
       "      <td>9.940002</td>\n",
       "      <td>3.05</td>\n",
       "      <td>16.4</td>\n",
       "      <td>15.55</td>\n",
       "      <td>0.25</td>\n",
       "      <td>2779.0</td>\n",
       "      <td>2505.0</td>\n",
       "      <td>0.0</td>\n",
       "      <td>3196.0</td>\n",
       "      <td>10.899994</td>\n",
       "    </tr>\n",
       "  </tbody>\n",
       "</table>\n",
       "</div>"
      ],
      "text/plain": [
       "                           dayofweek  day  month  hour  minute  T_ext  \\\n",
       "datetime                                                                \n",
       "2022-05-13 12:00:00+00:00          4   13      5    12       0  24.40   \n",
       "2022-05-13 12:01:00+00:00          4   13      5    12       1    NaN   \n",
       "2022-05-13 12:02:00+00:00          4   13      5    12       2  24.35   \n",
       "2022-05-13 12:03:00+00:00          4   13      5    12       3    NaN   \n",
       "2022-05-13 12:04:00+00:00          4   13      5    12       4  24.51   \n",
       "\n",
       "                           Solar_irrad     T_imp  BC1_power  BC2_power  \\\n",
       "datetime                                                                 \n",
       "2022-05-13 12:00:00+00:00        874.0  9.880005       3.05       16.5   \n",
       "2022-05-13 12:01:00+00:00          NaN       NaN       3.05       16.3   \n",
       "2022-05-13 12:02:00+00:00        875.0  9.940002       3.10       16.4   \n",
       "2022-05-13 12:03:00+00:00          NaN       NaN       3.10       16.5   \n",
       "2022-05-13 12:04:00+00:00        875.0  9.940002       3.05       16.4   \n",
       "\n",
       "                           Refr1_power  Refr2_power  BC1_flow  BC2_flow  \\\n",
       "datetime                                                                  \n",
       "2022-05-13 12:00:00+00:00        15.70         0.25    2923.0    2476.0   \n",
       "2022-05-13 12:01:00+00:00        15.70         0.25    2923.0    2476.0   \n",
       "2022-05-13 12:02:00+00:00        15.75         0.30    2793.0    2476.0   \n",
       "2022-05-13 12:03:00+00:00        15.65         0.25    2793.0    2606.0   \n",
       "2022-05-13 12:04:00+00:00        15.55         0.25    2779.0    2505.0   \n",
       "\n",
       "                           Refr1_flow  Refr2_flow      T_ret  \n",
       "datetime                                                      \n",
       "2022-05-13 12:00:00+00:00         0.0      3153.0  10.869995  \n",
       "2022-05-13 12:01:00+00:00         0.0      3153.0        NaN  \n",
       "2022-05-13 12:02:00+00:00         0.0      3211.0  10.750000  \n",
       "2022-05-13 12:03:00+00:00         0.0      3196.0        NaN  \n",
       "2022-05-13 12:04:00+00:00         0.0      3196.0  10.899994  "
      ]
     },
     "execution_count": 10,
     "metadata": {},
     "output_type": "execute_result"
    }
   ],
   "source": [
    "# Converting the 'datetime' column to the index of the DataFrame\n",
    "df_date_index = df_date_sorted.set_index('datetime')\n",
    "df_date_index.head() "
   ]
  },
  {
   "cell_type": "markdown",
   "metadata": {},
   "source": [
    "Slice T_ret data by date: from 2022-05-13 at 12:00 to 2022-05-14 at 12:00"
   ]
  },
  {
   "cell_type": "code",
   "execution_count": 11,
   "metadata": {},
   "outputs": [
    {
     "data": {
      "text/plain": [
       "Text(0.5, 1.0, 'T_ret from 2022-05-13 to 2022-05-14')"
      ]
     },
     "execution_count": 11,
     "metadata": {},
     "output_type": "execute_result"
    },
    {
     "data": {
      "image/png": "[encoded data removed]",
      "text/plain": [
       "<Figure size 640x480 with 1 Axes>"
      ]
     },
     "metadata": {},
     "output_type": "display_data"
    }
   ],
   "source": [
    "sliced_df = df_date_index[\"2022-05-13 12:00\":\"2022-05-14 12:00\"]\n",
    "plt.plot(sliced_df.index, sliced_df['T_ret'], marker='.', color='blue')\n",
    "plt.xticks(rotation=45)\n",
    "plt.xlabel(\"Datetime\")\n",
    "plt.ylabel(\"Value of T_ret\")\n",
    "plt.title(\"T_ret from 2022-05-13 to 2022-05-14\")"
   ]
  },
  {
   "cell_type": "markdown",
   "metadata": {},
   "source": [
    "If we plot it with pandas, x axis ticks have more clear names"
   ]
  },
  {
   "cell_type": "code",
   "execution_count": 12,
   "metadata": {},
   "outputs": [
    {
     "data": {
      "text/plain": [
       "<Axes: xlabel='datetime'>"
      ]
     },
     "execution_count": 12,
     "metadata": {},
     "output_type": "execute_result"
    },
    {
     "data": {
      "image/png": "[encoded data removed]",
      "text/plain": [
       "<Figure size 640x480 with 1 Axes>"
      ]
     },
     "metadata": {},
     "output_type": "display_data"
    }
   ],
   "source": [
    "sliced_df[['T_ret']].plot(marker='.')"
   ]
  },
  {
   "cell_type": "markdown",
   "metadata": {},
   "source": [
    "## Resample a time series to another frequency"
   ]
  },
  {
   "cell_type": "markdown",
   "metadata": {},
   "source": [
    "The resample function is very flexible and allows you to specify many different parameters to control the frequency conversion and resampling operation.\n",
    "- Aggregation functions: sum, mean, std, sem, max, min, median, first, last, ohlc\n",
    "- A number of string aliases are given to useful common time series frequencies: \n",
    "  - B business day frequency\n",
    "  - D calendar day frequency\n",
    "  - W weekly frequency\n",
    "  - M month end frequency\n",
    "  - H hourly frequency\n",
    "  - T minutely frequency\n",
    "  - S secondly  frequency"
   ]
  },
  {
   "cell_type": "markdown",
   "metadata": {},
   "source": [
    "For example, the following dataframes has 6 rows. Every row represents a month and the values of the columns are the average for that month"
   ]
  },
  {
   "cell_type": "code",
   "execution_count": 13,
   "metadata": {},
   "outputs": [
    {
     "data": {
      "text/html": [
       "<div>\n",
       "<style scoped>\n",
       "    .dataframe tbody tr th:only-of-type {\n",
       "        vertical-align: middle;\n",
       "    }\n",
       "\n",
       "    .dataframe tbody tr th {\n",
       "        vertical-align: top;\n",
       "    }\n",
       "\n",
       "    .dataframe thead th {\n",
       "        text-align: right;\n",
       "    }\n",
       "</style>\n",
       "<table border=\"1\" class=\"dataframe\">\n",
       "  <thead>\n",
       "    <tr style=\"text-align: right;\">\n",
       "      <th></th>\n",
       "      <th>dayofweek</th>\n",
       "      <th>day</th>\n",
       "      <th>month</th>\n",
       "      <th>hour</th>\n",
       "      <th>minute</th>\n",
       "      <th>T_ext</th>\n",
       "      <th>Solar_irrad</th>\n",
       "      <th>T_imp</th>\n",
       "      <th>BC1_power</th>\n",
       "      <th>BC2_power</th>\n",
       "      <th>Refr1_power</th>\n",
       "      <th>Refr2_power</th>\n",
       "      <th>BC1_flow</th>\n",
       "      <th>BC2_flow</th>\n",
       "      <th>Refr1_flow</th>\n",
       "      <th>Refr2_flow</th>\n",
       "      <th>T_ret</th>\n",
       "    </tr>\n",
       "    <tr>\n",
       "      <th>datetime</th>\n",
       "      <th></th>\n",
       "      <th></th>\n",
       "      <th></th>\n",
       "      <th></th>\n",
       "      <th></th>\n",
       "      <th></th>\n",
       "      <th></th>\n",
       "      <th></th>\n",
       "      <th></th>\n",
       "      <th></th>\n",
       "      <th></th>\n",
       "      <th></th>\n",
       "      <th></th>\n",
       "      <th></th>\n",
       "      <th></th>\n",
       "      <th></th>\n",
       "      <th></th>\n",
       "    </tr>\n",
       "  </thead>\n",
       "  <tbody>\n",
       "    <tr>\n",
       "      <th>2022-05-31 00:00:00+00:00</th>\n",
       "      <td>3.027027</td>\n",
       "      <td>22.243243</td>\n",
       "      <td>5.0</td>\n",
       "      <td>11.662162</td>\n",
       "      <td>29.500000</td>\n",
       "      <td>22.168988</td>\n",
       "      <td>273.568940</td>\n",
       "      <td>15.886844</td>\n",
       "      <td>3.932076</td>\n",
       "      <td>7.981988</td>\n",
       "      <td>5.857248</td>\n",
       "      <td>0.265298</td>\n",
       "      <td>1012.004992</td>\n",
       "      <td>914.213176</td>\n",
       "      <td>0.007920</td>\n",
       "      <td>1191.106794</td>\n",
       "      <td>16.348130</td>\n",
       "    </tr>\n",
       "    <tr>\n",
       "      <th>2022-06-30 00:00:00+00:00</th>\n",
       "      <td>2.966684</td>\n",
       "      <td>15.500093</td>\n",
       "      <td>6.0</td>\n",
       "      <td>11.501320</td>\n",
       "      <td>29.498217</td>\n",
       "      <td>24.709979</td>\n",
       "      <td>285.183527</td>\n",
       "      <td>15.030250</td>\n",
       "      <td>7.339296</td>\n",
       "      <td>12.617007</td>\n",
       "      <td>7.455367</td>\n",
       "      <td>0.464245</td>\n",
       "      <td>1188.151338</td>\n",
       "      <td>1072.627512</td>\n",
       "      <td>162.012272</td>\n",
       "      <td>1145.768431</td>\n",
       "      <td>15.815488</td>\n",
       "    </tr>\n",
       "    <tr>\n",
       "      <th>2022-07-31 00:00:00+00:00</th>\n",
       "      <td>3.170122</td>\n",
       "      <td>15.667789</td>\n",
       "      <td>7.0</td>\n",
       "      <td>11.504028</td>\n",
       "      <td>29.461567</td>\n",
       "      <td>26.595429</td>\n",
       "      <td>276.003361</td>\n",
       "      <td>15.903495</td>\n",
       "      <td>8.189658</td>\n",
       "      <td>13.083735</td>\n",
       "      <td>9.531757</td>\n",
       "      <td>1.426271</td>\n",
       "      <td>1141.545704</td>\n",
       "      <td>1028.773936</td>\n",
       "      <td>1153.586710</td>\n",
       "      <td>1196.765793</td>\n",
       "      <td>16.685987</td>\n",
       "    </tr>\n",
       "    <tr>\n",
       "      <th>2022-08-31 00:00:00+00:00</th>\n",
       "      <td>2.783147</td>\n",
       "      <td>19.606801</td>\n",
       "      <td>8.0</td>\n",
       "      <td>11.577454</td>\n",
       "      <td>29.500337</td>\n",
       "      <td>25.772014</td>\n",
       "      <td>228.226228</td>\n",
       "      <td>11.070007</td>\n",
       "      <td>5.393412</td>\n",
       "      <td>21.132283</td>\n",
       "      <td>0.269966</td>\n",
       "      <td>1.397382</td>\n",
       "      <td>1213.276557</td>\n",
       "      <td>1097.079693</td>\n",
       "      <td>1124.255788</td>\n",
       "      <td>0.133292</td>\n",
       "      <td>12.770020</td>\n",
       "    </tr>\n",
       "    <tr>\n",
       "      <th>2022-09-30 00:00:00+00:00</th>\n",
       "      <td>3.033337</td>\n",
       "      <td>15.500058</td>\n",
       "      <td>9.0</td>\n",
       "      <td>11.501215</td>\n",
       "      <td>29.498669</td>\n",
       "      <td>21.948185</td>\n",
       "      <td>175.105200</td>\n",
       "      <td>15.928481</td>\n",
       "      <td>5.914700</td>\n",
       "      <td>13.892371</td>\n",
       "      <td>6.868601</td>\n",
       "      <td>0.406932</td>\n",
       "      <td>2420.580723</td>\n",
       "      <td>2173.797296</td>\n",
       "      <td>136.822625</td>\n",
       "      <td>2692.200111</td>\n",
       "      <td>17.222119</td>\n",
       "    </tr>\n",
       "    <tr>\n",
       "      <th>2022-10-31 00:00:00+00:00</th>\n",
       "      <td>3.555281</td>\n",
       "      <td>5.000386</td>\n",
       "      <td>10.0</td>\n",
       "      <td>11.499113</td>\n",
       "      <td>29.497724</td>\n",
       "      <td>19.344489</td>\n",
       "      <td>153.768981</td>\n",
       "      <td>10.869995</td>\n",
       "      <td>3.177390</td>\n",
       "      <td>9.679917</td>\n",
       "      <td>4.958456</td>\n",
       "      <td>0.273899</td>\n",
       "      <td>2784.781035</td>\n",
       "      <td>2505.988195</td>\n",
       "      <td>0.019443</td>\n",
       "      <td>3299.993365</td>\n",
       "      <td>13.339996</td>\n",
       "    </tr>\n",
       "  </tbody>\n",
       "</table>\n",
       "</div>"
      ],
      "text/plain": [
       "                           dayofweek        day  month       hour     minute  \\\n",
       "datetime                                                                       \n",
       "2022-05-31 00:00:00+00:00   3.027027  22.243243    5.0  11.662162  29.500000   \n",
       "2022-06-30 00:00:00+00:00   2.966684  15.500093    6.0  11.501320  29.498217   \n",
       "2022-07-31 00:00:00+00:00   3.170122  15.667789    7.0  11.504028  29.461567   \n",
       "2022-08-31 00:00:00+00:00   2.783147  19.606801    8.0  11.577454  29.500337   \n",
       "2022-09-30 00:00:00+00:00   3.033337  15.500058    9.0  11.501215  29.498669   \n",
       "2022-10-31 00:00:00+00:00   3.555281   5.000386   10.0  11.499113  29.497724   \n",
       "\n",
       "                               T_ext  Solar_irrad      T_imp  BC1_power  \\\n",
       "datetime                                                                  \n",
       "2022-05-31 00:00:00+00:00  22.168988   273.568940  15.886844   3.932076   \n",
       "2022-06-30 00:00:00+00:00  24.709979   285.183527  15.030250   7.339296   \n",
       "2022-07-31 00:00:00+00:00  26.595429   276.003361  15.903495   8.189658   \n",
       "2022-08-31 00:00:00+00:00  25.772014   228.226228  11.070007   5.393412   \n",
       "2022-09-30 00:00:00+00:00  21.948185   175.105200  15.928481   5.914700   \n",
       "2022-10-31 00:00:00+00:00  19.344489   153.768981  10.869995   3.177390   \n",
       "\n",
       "                           BC2_power  Refr1_power  Refr2_power     BC1_flow  \\\n",
       "datetime                                                                      \n",
       "2022-05-31 00:00:00+00:00   7.981988     5.857248     0.265298  1012.004992   \n",
       "2022-06-30 00:00:00+00:00  12.617007     7.455367     0.464245  1188.151338   \n",
       "2022-07-31 00:00:00+00:00  13.083735     9.531757     1.426271  1141.545704   \n",
       "2022-08-31 00:00:00+00:00  21.132283     0.269966     1.397382  1213.276557   \n",
       "2022-09-30 00:00:00+00:00  13.892371     6.868601     0.406932  2420.580723   \n",
       "2022-10-31 00:00:00+00:00   9.679917     4.958456     0.273899  2784.781035   \n",
       "\n",
       "                              BC2_flow   Refr1_flow   Refr2_flow      T_ret  \n",
       "datetime                                                                     \n",
       "2022-05-31 00:00:00+00:00   914.213176     0.007920  1191.106794  16.348130  \n",
       "2022-06-30 00:00:00+00:00  1072.627512   162.012272  1145.768431  15.815488  \n",
       "2022-07-31 00:00:00+00:00  1028.773936  1153.586710  1196.765793  16.685987  \n",
       "2022-08-31 00:00:00+00:00  1097.079693  1124.255788     0.133292  12.770020  \n",
       "2022-09-30 00:00:00+00:00  2173.797296   136.822625  2692.200111  17.222119  \n",
       "2022-10-31 00:00:00+00:00  2505.988195     0.019443  3299.993365  13.339996  "
      ]
     },
     "execution_count": 13,
     "metadata": {},
     "output_type": "execute_result"
    }
   ],
   "source": [
    "df_date_index.resample(\"M\").mean()"
   ]
  },
  {
   "cell_type": "markdown",
   "metadata": {},
   "source": [
    "The same can be done for day intervals and only for one column."
   ]
  },
  {
   "cell_type": "code",
   "execution_count": 14,
   "metadata": {},
   "outputs": [
    {
     "data": {
      "text/plain": [
       "<matplotlib.legend.Legend at 0x23a671f1ed0>"
      ]
     },
     "execution_count": 14,
     "metadata": {},
     "output_type": "execute_result"
    },
    {
     "data": {
      "image/png": "[encoded data removed]",
      "text/plain": [
       "<Figure size 1000x500 with 1 Axes>"
      ]
     },
     "metadata": {},
     "output_type": "display_data"
    }
   ],
   "source": [
    "series1 = df_date_index['T_ret'].resample(\"1d\").mean()\n",
    "series2 = df_date_index['T_ret'].resample(\"3d\").mean()\n",
    "series3 = df_date_index['T_ret'].resample(\"5d\").mean()\n",
    "series4 = df_date_index['T_ret'].resample(\"7d\").mean()\n",
    "\n",
    "# Plotting the series\n",
    "plt.figure(figsize=(10, 5))\n",
    "plt.plot(series1, label='Series 1')\n",
    "plt.plot(series2, label='Series 2')\n",
    "plt.plot(series3, label='Series 3')\n",
    "plt.plot(series4, label='Series 4')\n",
    "\n",
    "plt.title('Two Series Data')\n",
    "plt.xlabel('Index')\n",
    "plt.ylabel('Values')\n",
    "plt.legend()"
   ]
  },
  {
   "cell_type": "markdown",
   "metadata": {},
   "source": [
    "# Temporal continuty"
   ]
  },
  {
   "cell_type": "markdown",
   "metadata": {},
   "source": [
    "Every sample (row of the `df_date_index` dataset) must have a 1 min delay with the previous row."
   ]
  },
  {
   "cell_type": "code",
   "execution_count": 15,
   "metadata": {},
   "outputs": [
    {
     "name": "stdout",
     "output_type": "stream",
     "text": [
      "time differences in min between consecutive rows: [-1.53722867e+08  1.00000000e+00  2.00000000e+00  3.00000000e+00\n",
      "  1.03480000e+04]\n",
      "frequency of time differences: [     1 201477   1726      1      1]\n"
     ]
    }
   ],
   "source": [
    "time_diff = pd.Series(df_date_index.index).diff()\n",
    "time_diff_min = time_diff.astype(np.int64) / (60*10**9)\n",
    "values, counts=np.unique(time_diff_min, return_counts=True)\n",
    "print('time differences in min between consecutive rows:', values)\n",
    "print('frequency of time differences:', counts)"
   ]
  },
  {
   "cell_type": "code",
   "execution_count": 16,
   "metadata": {},
   "outputs": [
    {
     "data": {
      "text/plain": [
       "(0.0, 25.0)"
      ]
     },
     "execution_count": 16,
     "metadata": {},
     "output_type": "execute_result"
    },
    {
     "data": {
      "image/png": "[encoded data removed]",
      "text/plain": [
       "<Figure size 640x480 with 1 Axes>"
      ]
     },
     "metadata": {},
     "output_type": "display_data"
    }
   ],
   "source": [
    "plt.plot(time_diff_min)\n",
    "plt.ylim(0, 25) # to avoid scale reading difficulties"
   ]
  },
  {
   "cell_type": "markdown",
   "metadata": {},
   "source": [
    "Showing the issue for the 3 min discontinuty:\n",
    "As we can see, there is a jump of 3 min between dates 2022-06-15 08:24:00 and 2022-06-15 08:27:00. "
   ]
  },
  {
   "cell_type": "code",
   "execution_count": 17,
   "metadata": {},
   "outputs": [
    {
     "data": {
      "text/html": [
       "<div>\n",
       "<style scoped>\n",
       "    .dataframe tbody tr th:only-of-type {\n",
       "        vertical-align: middle;\n",
       "    }\n",
       "\n",
       "    .dataframe tbody tr th {\n",
       "        vertical-align: top;\n",
       "    }\n",
       "\n",
       "    .dataframe thead th {\n",
       "        text-align: right;\n",
       "    }\n",
       "</style>\n",
       "<table border=\"1\" class=\"dataframe\">\n",
       "  <thead>\n",
       "    <tr style=\"text-align: right;\">\n",
       "      <th></th>\n",
       "      <th>dayofweek</th>\n",
       "      <th>day</th>\n",
       "      <th>month</th>\n",
       "      <th>hour</th>\n",
       "      <th>minute</th>\n",
       "      <th>T_ext</th>\n",
       "      <th>Solar_irrad</th>\n",
       "      <th>T_imp</th>\n",
       "      <th>BC1_power</th>\n",
       "      <th>BC2_power</th>\n",
       "      <th>Refr1_power</th>\n",
       "      <th>Refr2_power</th>\n",
       "      <th>BC1_flow</th>\n",
       "      <th>BC2_flow</th>\n",
       "      <th>Refr1_flow</th>\n",
       "      <th>Refr2_flow</th>\n",
       "      <th>T_ret</th>\n",
       "    </tr>\n",
       "    <tr>\n",
       "      <th>datetime</th>\n",
       "      <th></th>\n",
       "      <th></th>\n",
       "      <th></th>\n",
       "      <th></th>\n",
       "      <th></th>\n",
       "      <th></th>\n",
       "      <th></th>\n",
       "      <th></th>\n",
       "      <th></th>\n",
       "      <th></th>\n",
       "      <th></th>\n",
       "      <th></th>\n",
       "      <th></th>\n",
       "      <th></th>\n",
       "      <th></th>\n",
       "      <th></th>\n",
       "      <th></th>\n",
       "    </tr>\n",
       "  </thead>\n",
       "  <tbody>\n",
       "    <tr>\n",
       "      <th>2022-06-15 08:22:00+00:00</th>\n",
       "      <td>2</td>\n",
       "      <td>15</td>\n",
       "      <td>6</td>\n",
       "      <td>8</td>\n",
       "      <td>22</td>\n",
       "      <td>29.57</td>\n",
       "      <td>251.0</td>\n",
       "      <td>NaN</td>\n",
       "      <td>13.60</td>\n",
       "      <td>29.50</td>\n",
       "      <td>27.15</td>\n",
       "      <td>0.25</td>\n",
       "      <td>2937.0</td>\n",
       "      <td>2520.0</td>\n",
       "      <td>0.0</td>\n",
       "      <td>3340.0</td>\n",
       "      <td>NaN</td>\n",
       "    </tr>\n",
       "    <tr>\n",
       "      <th>2022-06-15 08:23:00+00:00</th>\n",
       "      <td>2</td>\n",
       "      <td>15</td>\n",
       "      <td>6</td>\n",
       "      <td>8</td>\n",
       "      <td>23</td>\n",
       "      <td>NaN</td>\n",
       "      <td>NaN</td>\n",
       "      <td>NaN</td>\n",
       "      <td>13.55</td>\n",
       "      <td>29.40</td>\n",
       "      <td>27.20</td>\n",
       "      <td>0.25</td>\n",
       "      <td>2779.0</td>\n",
       "      <td>2347.0</td>\n",
       "      <td>0.0</td>\n",
       "      <td>3312.0</td>\n",
       "      <td>NaN</td>\n",
       "    </tr>\n",
       "    <tr>\n",
       "      <th>2022-06-15 08:24:00+00:00</th>\n",
       "      <td>2</td>\n",
       "      <td>15</td>\n",
       "      <td>6</td>\n",
       "      <td>8</td>\n",
       "      <td>24</td>\n",
       "      <td>29.57</td>\n",
       "      <td>287.0</td>\n",
       "      <td>NaN</td>\n",
       "      <td>13.60</td>\n",
       "      <td>29.10</td>\n",
       "      <td>27.15</td>\n",
       "      <td>0.25</td>\n",
       "      <td>2793.0</td>\n",
       "      <td>2520.0</td>\n",
       "      <td>0.0</td>\n",
       "      <td>3182.0</td>\n",
       "      <td>NaN</td>\n",
       "    </tr>\n",
       "    <tr>\n",
       "      <th>2022-06-15 08:27:00+00:00</th>\n",
       "      <td>2</td>\n",
       "      <td>15</td>\n",
       "      <td>6</td>\n",
       "      <td>8</td>\n",
       "      <td>27</td>\n",
       "      <td>NaN</td>\n",
       "      <td>NaN</td>\n",
       "      <td>NaN</td>\n",
       "      <td>13.65</td>\n",
       "      <td>29.30</td>\n",
       "      <td>27.45</td>\n",
       "      <td>0.25</td>\n",
       "      <td>2793.0</td>\n",
       "      <td>2520.0</td>\n",
       "      <td>0.0</td>\n",
       "      <td>3326.0</td>\n",
       "      <td>NaN</td>\n",
       "    </tr>\n",
       "    <tr>\n",
       "      <th>2022-06-15 08:28:00+00:00</th>\n",
       "      <td>2</td>\n",
       "      <td>15</td>\n",
       "      <td>6</td>\n",
       "      <td>8</td>\n",
       "      <td>28</td>\n",
       "      <td>29.52</td>\n",
       "      <td>606.0</td>\n",
       "      <td>NaN</td>\n",
       "      <td>13.75</td>\n",
       "      <td>29.40</td>\n",
       "      <td>27.40</td>\n",
       "      <td>0.25</td>\n",
       "      <td>2707.0</td>\n",
       "      <td>2534.0</td>\n",
       "      <td>0.0</td>\n",
       "      <td>3211.0</td>\n",
       "      <td>NaN</td>\n",
       "    </tr>\n",
       "    <tr>\n",
       "      <th>2022-06-15 08:29:00+00:00</th>\n",
       "      <td>2</td>\n",
       "      <td>15</td>\n",
       "      <td>6</td>\n",
       "      <td>8</td>\n",
       "      <td>29</td>\n",
       "      <td>NaN</td>\n",
       "      <td>NaN</td>\n",
       "      <td>NaN</td>\n",
       "      <td>13.75</td>\n",
       "      <td>29.35</td>\n",
       "      <td>27.45</td>\n",
       "      <td>0.25</td>\n",
       "      <td>2707.0</td>\n",
       "      <td>2520.0</td>\n",
       "      <td>0.0</td>\n",
       "      <td>3196.0</td>\n",
       "      <td>NaN</td>\n",
       "    </tr>\n",
       "  </tbody>\n",
       "</table>\n",
       "</div>"
      ],
      "text/plain": [
       "                           dayofweek  day  month  hour  minute  T_ext  \\\n",
       "datetime                                                                \n",
       "2022-06-15 08:22:00+00:00          2   15      6     8      22  29.57   \n",
       "2022-06-15 08:23:00+00:00          2   15      6     8      23    NaN   \n",
       "2022-06-15 08:24:00+00:00          2   15      6     8      24  29.57   \n",
       "2022-06-15 08:27:00+00:00          2   15      6     8      27    NaN   \n",
       "2022-06-15 08:28:00+00:00          2   15      6     8      28  29.52   \n",
       "2022-06-15 08:29:00+00:00          2   15      6     8      29    NaN   \n",
       "\n",
       "                           Solar_irrad  T_imp  BC1_power  BC2_power  \\\n",
       "datetime                                                              \n",
       "2022-06-15 08:22:00+00:00        251.0    NaN      13.60      29.50   \n",
       "2022-06-15 08:23:00+00:00          NaN    NaN      13.55      29.40   \n",
       "2022-06-15 08:24:00+00:00        287.0    NaN      13.60      29.10   \n",
       "2022-06-15 08:27:00+00:00          NaN    NaN      13.65      29.30   \n",
       "2022-06-15 08:28:00+00:00        606.0    NaN      13.75      29.40   \n",
       "2022-06-15 08:29:00+00:00          NaN    NaN      13.75      29.35   \n",
       "\n",
       "                           Refr1_power  Refr2_power  BC1_flow  BC2_flow  \\\n",
       "datetime                                                                  \n",
       "2022-06-15 08:22:00+00:00        27.15         0.25    2937.0    2520.0   \n",
       "2022-06-15 08:23:00+00:00        27.20         0.25    2779.0    2347.0   \n",
       "2022-06-15 08:24:00+00:00        27.15         0.25    2793.0    2520.0   \n",
       "2022-06-15 08:27:00+00:00        27.45         0.25    2793.0    2520.0   \n",
       "2022-06-15 08:28:00+00:00        27.40         0.25    2707.0    2534.0   \n",
       "2022-06-15 08:29:00+00:00        27.45         0.25    2707.0    2520.0   \n",
       "\n",
       "                           Refr1_flow  Refr2_flow  T_ret  \n",
       "datetime                                                  \n",
       "2022-06-15 08:22:00+00:00         0.0      3340.0    NaN  \n",
       "2022-06-15 08:23:00+00:00         0.0      3312.0    NaN  \n",
       "2022-06-15 08:24:00+00:00         0.0      3182.0    NaN  \n",
       "2022-06-15 08:27:00+00:00         0.0      3326.0    NaN  \n",
       "2022-06-15 08:28:00+00:00         0.0      3211.0    NaN  \n",
       "2022-06-15 08:29:00+00:00         0.0      3196.0    NaN  "
      ]
     },
     "execution_count": 17,
     "metadata": {},
     "output_type": "execute_result"
    }
   ],
   "source": [
    "idx_3min=np.where(time_diff_min==3)[0][0]\n",
    "df_error=df_date_index.iloc[idx_3min-3:idx_3min+3]\n",
    "df_error"
   ]
  },
  {
   "cell_type": "markdown",
   "metadata": {},
   "source": [
    "To solve the issue we have to make a resample and fill the two missing rows by interpolation"
   ]
  },
  {
   "cell_type": "code",
   "execution_count": 18,
   "metadata": {},
   "outputs": [
    {
     "data": {
      "text/html": [
       "<div>\n",
       "<style scoped>\n",
       "    .dataframe tbody tr th:only-of-type {\n",
       "        vertical-align: middle;\n",
       "    }\n",
       "\n",
       "    .dataframe tbody tr th {\n",
       "        vertical-align: top;\n",
       "    }\n",
       "\n",
       "    .dataframe thead th {\n",
       "        text-align: right;\n",
       "    }\n",
       "</style>\n",
       "<table border=\"1\" class=\"dataframe\">\n",
       "  <thead>\n",
       "    <tr style=\"text-align: right;\">\n",
       "      <th></th>\n",
       "      <th>dayofweek</th>\n",
       "      <th>day</th>\n",
       "      <th>month</th>\n",
       "      <th>hour</th>\n",
       "      <th>minute</th>\n",
       "      <th>T_ext</th>\n",
       "      <th>Solar_irrad</th>\n",
       "      <th>T_imp</th>\n",
       "      <th>BC1_power</th>\n",
       "      <th>BC2_power</th>\n",
       "      <th>Refr1_power</th>\n",
       "      <th>Refr2_power</th>\n",
       "      <th>BC1_flow</th>\n",
       "      <th>BC2_flow</th>\n",
       "      <th>Refr1_flow</th>\n",
       "      <th>Refr2_flow</th>\n",
       "      <th>T_ret</th>\n",
       "    </tr>\n",
       "    <tr>\n",
       "      <th>datetime</th>\n",
       "      <th></th>\n",
       "      <th></th>\n",
       "      <th></th>\n",
       "      <th></th>\n",
       "      <th></th>\n",
       "      <th></th>\n",
       "      <th></th>\n",
       "      <th></th>\n",
       "      <th></th>\n",
       "      <th></th>\n",
       "      <th></th>\n",
       "      <th></th>\n",
       "      <th></th>\n",
       "      <th></th>\n",
       "      <th></th>\n",
       "      <th></th>\n",
       "      <th></th>\n",
       "    </tr>\n",
       "  </thead>\n",
       "  <tbody>\n",
       "    <tr>\n",
       "      <th>2022-06-15 08:22:00+00:00</th>\n",
       "      <td>2.0</td>\n",
       "      <td>15.0</td>\n",
       "      <td>6.0</td>\n",
       "      <td>8.0</td>\n",
       "      <td>22.0</td>\n",
       "      <td>29.57</td>\n",
       "      <td>251.0</td>\n",
       "      <td>NaN</td>\n",
       "      <td>13.60</td>\n",
       "      <td>29.50</td>\n",
       "      <td>27.15</td>\n",
       "      <td>0.25</td>\n",
       "      <td>2937.0</td>\n",
       "      <td>2520.0</td>\n",
       "      <td>0.0</td>\n",
       "      <td>3340.0</td>\n",
       "      <td>NaN</td>\n",
       "    </tr>\n",
       "    <tr>\n",
       "      <th>2022-06-15 08:23:00+00:00</th>\n",
       "      <td>2.0</td>\n",
       "      <td>15.0</td>\n",
       "      <td>6.0</td>\n",
       "      <td>8.0</td>\n",
       "      <td>23.0</td>\n",
       "      <td>NaN</td>\n",
       "      <td>NaN</td>\n",
       "      <td>NaN</td>\n",
       "      <td>13.55</td>\n",
       "      <td>29.40</td>\n",
       "      <td>27.20</td>\n",
       "      <td>0.25</td>\n",
       "      <td>2779.0</td>\n",
       "      <td>2347.0</td>\n",
       "      <td>0.0</td>\n",
       "      <td>3312.0</td>\n",
       "      <td>NaN</td>\n",
       "    </tr>\n",
       "    <tr>\n",
       "      <th>2022-06-15 08:24:00+00:00</th>\n",
       "      <td>2.0</td>\n",
       "      <td>15.0</td>\n",
       "      <td>6.0</td>\n",
       "      <td>8.0</td>\n",
       "      <td>24.0</td>\n",
       "      <td>29.57</td>\n",
       "      <td>287.0</td>\n",
       "      <td>NaN</td>\n",
       "      <td>13.60</td>\n",
       "      <td>29.10</td>\n",
       "      <td>27.15</td>\n",
       "      <td>0.25</td>\n",
       "      <td>2793.0</td>\n",
       "      <td>2520.0</td>\n",
       "      <td>0.0</td>\n",
       "      <td>3182.0</td>\n",
       "      <td>NaN</td>\n",
       "    </tr>\n",
       "    <tr>\n",
       "      <th>2022-06-15 08:25:00+00:00</th>\n",
       "      <td>NaN</td>\n",
       "      <td>NaN</td>\n",
       "      <td>NaN</td>\n",
       "      <td>NaN</td>\n",
       "      <td>NaN</td>\n",
       "      <td>NaN</td>\n",
       "      <td>NaN</td>\n",
       "      <td>NaN</td>\n",
       "      <td>NaN</td>\n",
       "      <td>NaN</td>\n",
       "      <td>NaN</td>\n",
       "      <td>NaN</td>\n",
       "      <td>NaN</td>\n",
       "      <td>NaN</td>\n",
       "      <td>NaN</td>\n",
       "      <td>NaN</td>\n",
       "      <td>NaN</td>\n",
       "    </tr>\n",
       "    <tr>\n",
       "      <th>2022-06-15 08:26:00+00:00</th>\n",
       "      <td>NaN</td>\n",
       "      <td>NaN</td>\n",
       "      <td>NaN</td>\n",
       "      <td>NaN</td>\n",
       "      <td>NaN</td>\n",
       "      <td>NaN</td>\n",
       "      <td>NaN</td>\n",
       "      <td>NaN</td>\n",
       "      <td>NaN</td>\n",
       "      <td>NaN</td>\n",
       "      <td>NaN</td>\n",
       "      <td>NaN</td>\n",
       "      <td>NaN</td>\n",
       "      <td>NaN</td>\n",
       "      <td>NaN</td>\n",
       "      <td>NaN</td>\n",
       "      <td>NaN</td>\n",
       "    </tr>\n",
       "    <tr>\n",
       "      <th>2022-06-15 08:27:00+00:00</th>\n",
       "      <td>2.0</td>\n",
       "      <td>15.0</td>\n",
       "      <td>6.0</td>\n",
       "      <td>8.0</td>\n",
       "      <td>27.0</td>\n",
       "      <td>NaN</td>\n",
       "      <td>NaN</td>\n",
       "      <td>NaN</td>\n",
       "      <td>13.65</td>\n",
       "      <td>29.30</td>\n",
       "      <td>27.45</td>\n",
       "      <td>0.25</td>\n",
       "      <td>2793.0</td>\n",
       "      <td>2520.0</td>\n",
       "      <td>0.0</td>\n",
       "      <td>3326.0</td>\n",
       "      <td>NaN</td>\n",
       "    </tr>\n",
       "    <tr>\n",
       "      <th>2022-06-15 08:28:00+00:00</th>\n",
       "      <td>2.0</td>\n",
       "      <td>15.0</td>\n",
       "      <td>6.0</td>\n",
       "      <td>8.0</td>\n",
       "      <td>28.0</td>\n",
       "      <td>29.52</td>\n",
       "      <td>606.0</td>\n",
       "      <td>NaN</td>\n",
       "      <td>13.75</td>\n",
       "      <td>29.40</td>\n",
       "      <td>27.40</td>\n",
       "      <td>0.25</td>\n",
       "      <td>2707.0</td>\n",
       "      <td>2534.0</td>\n",
       "      <td>0.0</td>\n",
       "      <td>3211.0</td>\n",
       "      <td>NaN</td>\n",
       "    </tr>\n",
       "    <tr>\n",
       "      <th>2022-06-15 08:29:00+00:00</th>\n",
       "      <td>2.0</td>\n",
       "      <td>15.0</td>\n",
       "      <td>6.0</td>\n",
       "      <td>8.0</td>\n",
       "      <td>29.0</td>\n",
       "      <td>NaN</td>\n",
       "      <td>NaN</td>\n",
       "      <td>NaN</td>\n",
       "      <td>13.75</td>\n",
       "      <td>29.35</td>\n",
       "      <td>27.45</td>\n",
       "      <td>0.25</td>\n",
       "      <td>2707.0</td>\n",
       "      <td>2520.0</td>\n",
       "      <td>0.0</td>\n",
       "      <td>3196.0</td>\n",
       "      <td>NaN</td>\n",
       "    </tr>\n",
       "  </tbody>\n",
       "</table>\n",
       "</div>"
      ],
      "text/plain": [
       "                           dayofweek   day  month  hour  minute  T_ext  \\\n",
       "datetime                                                                 \n",
       "2022-06-15 08:22:00+00:00        2.0  15.0    6.0   8.0    22.0  29.57   \n",
       "2022-06-15 08:23:00+00:00        2.0  15.0    6.0   8.0    23.0    NaN   \n",
       "2022-06-15 08:24:00+00:00        2.0  15.0    6.0   8.0    24.0  29.57   \n",
       "2022-06-15 08:25:00+00:00        NaN   NaN    NaN   NaN     NaN    NaN   \n",
       "2022-06-15 08:26:00+00:00        NaN   NaN    NaN   NaN     NaN    NaN   \n",
       "2022-06-15 08:27:00+00:00        2.0  15.0    6.0   8.0    27.0    NaN   \n",
       "2022-06-15 08:28:00+00:00        2.0  15.0    6.0   8.0    28.0  29.52   \n",
       "2022-06-15 08:29:00+00:00        2.0  15.0    6.0   8.0    29.0    NaN   \n",
       "\n",
       "                           Solar_irrad  T_imp  BC1_power  BC2_power  \\\n",
       "datetime                                                              \n",
       "2022-06-15 08:22:00+00:00        251.0    NaN      13.60      29.50   \n",
       "2022-06-15 08:23:00+00:00          NaN    NaN      13.55      29.40   \n",
       "2022-06-15 08:24:00+00:00        287.0    NaN      13.60      29.10   \n",
       "2022-06-15 08:25:00+00:00          NaN    NaN        NaN        NaN   \n",
       "2022-06-15 08:26:00+00:00          NaN    NaN        NaN        NaN   \n",
       "2022-06-15 08:27:00+00:00          NaN    NaN      13.65      29.30   \n",
       "2022-06-15 08:28:00+00:00        606.0    NaN      13.75      29.40   \n",
       "2022-06-15 08:29:00+00:00          NaN    NaN      13.75      29.35   \n",
       "\n",
       "                           Refr1_power  Refr2_power  BC1_flow  BC2_flow  \\\n",
       "datetime                                                                  \n",
       "2022-06-15 08:22:00+00:00        27.15         0.25    2937.0    2520.0   \n",
       "2022-06-15 08:23:00+00:00        27.20         0.25    2779.0    2347.0   \n",
       "2022-06-15 08:24:00+00:00        27.15         0.25    2793.0    2520.0   \n",
       "2022-06-15 08:25:00+00:00          NaN          NaN       NaN       NaN   \n",
       "2022-06-15 08:26:00+00:00          NaN          NaN       NaN       NaN   \n",
       "2022-06-15 08:27:00+00:00        27.45         0.25    2793.0    2520.0   \n",
       "2022-06-15 08:28:00+00:00        27.40         0.25    2707.0    2534.0   \n",
       "2022-06-15 08:29:00+00:00        27.45         0.25    2707.0    2520.0   \n",
       "\n",
       "                           Refr1_flow  Refr2_flow  T_ret  \n",
       "datetime                                                  \n",
       "2022-06-15 08:22:00+00:00         0.0      3340.0    NaN  \n",
       "2022-06-15 08:23:00+00:00         0.0      3312.0    NaN  \n",
       "2022-06-15 08:24:00+00:00         0.0      3182.0    NaN  \n",
       "2022-06-15 08:25:00+00:00         NaN         NaN    NaN  \n",
       "2022-06-15 08:26:00+00:00         NaN         NaN    NaN  \n",
       "2022-06-15 08:27:00+00:00         0.0      3326.0    NaN  \n",
       "2022-06-15 08:28:00+00:00         0.0      3211.0    NaN  \n",
       "2022-06-15 08:29:00+00:00         0.0      3196.0    NaN  "
      ]
     },
     "execution_count": 18,
     "metadata": {},
     "output_type": "execute_result"
    }
   ],
   "source": [
    "df_solved=df_error.resample(rule='1T').mean()  # adding .interpolate(method='linear') will fill NaN values, but we don't want that here\n",
    "df_solved"
   ]
  },
  {
   "cell_type": "markdown",
   "metadata": {},
   "source": [
    "If we do this for all the dataset (the one negative value is becasue the difference with the previous value and the first row)"
   ]
  },
  {
   "cell_type": "code",
   "execution_count": 19,
   "metadata": {},
   "outputs": [
    {
     "name": "stdout",
     "output_type": "stream",
     "text": [
      "time differences in min between consecutive rows: [-1.53722867e+08  1.00000000e+00]\n",
      "frequency of time differences: [     1 215280]\n"
     ]
    }
   ],
   "source": [
    "df_date_index_cont=df_date_index.resample(rule='1T').mean()  #.interpolate(method='linear')\n",
    "time_diff_cont = pd.Series(df_date_index_cont.index).diff()\n",
    "time_diff_cont_min = time_diff_cont.astype(np.int64) / (60*10**9)\n",
    "values_cont, counts_cont=np.unique(time_diff_cont_min, return_counts=True)\n",
    "print('time differences in min between consecutive rows:', values_cont)\n",
    "print('frequency of time differences:', counts_cont)"
   ]
  },
  {
   "cell_type": "markdown",
   "metadata": {},
   "source": [
    "Before doing all of these, it is interesting to split the dataset in segments if the time discontinuty is bigger than a threshold."
   ]
  },
  {
   "cell_type": "code",
   "execution_count": 20,
   "metadata": {},
   "outputs": [
    {
     "name": "stdout",
     "output_type": "stream",
     "text": [
      "df segment 0 with length 113069\n",
      "df segment 1 with length 90137\n"
     ]
    }
   ],
   "source": [
    "threshold=30\n",
    "list_of_idxs=[]\n",
    "\n",
    "for val in values:\n",
    "    if val>threshold:\n",
    "        idxs = list(np.where(time_diff_min==val)[0])\n",
    "        list_of_idxs += idxs\n",
    "\n",
    "list_of_idxs.sort()\n",
    "l_mod = [0] + list_of_idxs + [len(df_date_index)+1]\n",
    "\n",
    "list_of_dfs = [df_date_index.iloc[l_mod[n]:l_mod[n+1]] for n in range(len(l_mod)-1)]\n",
    "\n",
    "list_of_dfs_cont=[]\n",
    "for i,e in enumerate(list_of_dfs):\n",
    "    print(f'df segment {i} with length',len(e))\n",
    "    list_of_dfs_cont.append(e.resample(rule='1T').mean())  #.interpolate(method='linear')"
   ]
  },
  {
   "cell_type": "markdown",
   "metadata": {},
   "source": [
    "# NaN data exploration"
   ]
  },
  {
   "cell_type": "markdown",
   "metadata": {},
   "source": [
    "Check how many Nan values are for each varaible"
   ]
  },
  {
   "cell_type": "markdown",
   "metadata": {},
   "source": [
    "dayofweek, day, month, hour, and minute\tnow contain nan values because of the added rows full of NaNs that ensure continuty"
   ]
  },
  {
   "cell_type": "code",
   "execution_count": 21,
   "metadata": {},
   "outputs": [
    {
     "data": {
      "image/png": "[encoded data removed]",
      "text/plain": [
       "<Figure size 640x480 with 1 Axes>"
      ]
     },
     "metadata": {},
     "output_type": "display_data"
    }
   ],
   "source": [
    "def plot_nas(df: pd.DataFrame):\n",
    "    if df.isnull().sum().sum() != 0:\n",
    "        na_df = (df.isnull().sum() / len(df)) * 100      \n",
    "        na_df = na_df.drop(na_df[na_df == 0].index).sort_values(ascending=False)\n",
    "        missing_data = pd.DataFrame({'Missing Ratio %' :na_df})\n",
    "        missing_data.plot(kind = \"barh\")\n",
    "        plt.show()\n",
    "    else:\n",
    "        print('No NAs found')\n",
    "plot_nas(list_of_dfs_cont[0])"
   ]
  },
  {
   "cell_type": "markdown",
   "metadata": {},
   "source": [
    "# Data processing"
   ]
  },
  {
   "cell_type": "markdown",
   "metadata": {},
   "source": [
    "The first step is to have all data with the same frequency. We know that T_ext, Solar_irrad, T_imp and T_ret have sampling intervals of 2 minutes, while the other variables have 1 min intervals. To have the same intervals, all rows that are not supposed to have T_ext, Solar_irrad, T_imp and T_ret measures, will be deleted. Notice that there are rows that should have these values but they don't. "
   ]
  },
  {
   "cell_type": "markdown",
   "metadata": {},
   "source": [
    "Concretely, I want to delete the rows where I know for sure that there will never be data of all sensors (because the sampling time of some of the sensors doesn't allow it)"
   ]
  },
  {
   "cell_type": "code",
   "execution_count": 48,
   "metadata": {},
   "outputs": [],
   "source": [
    "row_to_start=0\n",
    "rows_to_skip=2\n",
    "\n",
    "df1 = list_of_dfs_cont[0].iloc[row_to_start::rows_to_skip, :]\n",
    "df2 = list_of_dfs_cont[1].iloc[row_to_start::rows_to_skip, :]"
   ]
  },
  {
   "cell_type": "markdown",
   "metadata": {},
   "source": [
    "Find which `row_to_start` minimizes nan values"
   ]
  },
  {
   "cell_type": "code",
   "execution_count": 49,
   "metadata": {},
   "outputs": [
    {
     "name": "stdout",
     "output_type": "stream",
     "text": [
      "0 0 45057\n",
      "0 0 251893\n",
      "1 0 72478\n",
      "1 0 180422\n",
      "Optimal row_to_start for dataframe 0: 0\n",
      "Optimal row_to_start for dataframe 1: 0\n"
     ]
    }
   ],
   "source": [
    "rows_to_skip=2\n",
    "optimal_rows = {}\n",
    "\n",
    "for i, e in enumerate(list_of_dfs_cont):\n",
    "    \n",
    "    min_nans = np.inf  \n",
    "    optimal_row = None\n",
    "    \n",
    "    for row_to_start in range(rows_to_skip):\n",
    "        temp = e.iloc[row_to_start::rows_to_skip, :]\n",
    "        total_nans = temp.isnull().sum().sum()\n",
    "        if total_nans < min_nans:\n",
    "            min_nans = total_nans\n",
    "            optimal_row = row_to_start\n",
    "        print(i, optimal_row, total_nans)\n",
    "    optimal_rows[i] = optimal_row\n",
    "\n",
    "list_of_dfs_reduced=[]\n",
    "for i, optimal_row in optimal_rows.items():\n",
    "    print(f\"Optimal row_to_start for dataframe {i}: {optimal_row}\")\n",
    "    df_i=list_of_dfs_cont[i]\n",
    "    list_of_dfs_reduced.append(df_i.iloc[optimal_row::rows_to_skip, :])\n"
   ]
  },
  {
   "cell_type": "markdown",
   "metadata": {},
   "source": [
    "Checking the nan data of the preprocessed datasets, it seems that variables T_imp and T_ret are the ones with more nans and we assume that only if they are nan, the other varaibles can be nan. We also assume that T_imp and T_ret have the same nan pattern."
   ]
  },
  {
   "cell_type": "code",
   "execution_count": 23,
   "metadata": {},
   "outputs": [
    {
     "data": {
      "text/plain": [
       "<Axes: >"
      ]
     },
     "execution_count": 23,
     "metadata": {},
     "output_type": "execute_result"
    },
    {
     "data": {
      "image/png": "[encoded data removed]",
      "text/plain": [
       "<Figure size 2500x1000 with 2 Axes>"
      ]
     },
     "metadata": {},
     "output_type": "display_data"
    }
   ],
   "source": [
    "import missingno as msno\n",
    "msno.matrix(df1)"
   ]
  },
  {
   "cell_type": "markdown",
   "metadata": {},
   "source": [
    "Now we split the dataset in different segments where consecutive NaNs are larger than a threshold."
   ]
  },
  {
   "cell_type": "markdown",
   "metadata": {},
   "source": [
    "First we try for a dummy example"
   ]
  },
  {
   "cell_type": "code",
   "execution_count": 24,
   "metadata": {},
   "outputs": [],
   "source": [
    "df = pd.DataFrame({'a':[1,2,np.NaN, np.NaN, np.NaN, 6,7,8,9,10,np.NaN,np.NaN,13,14 ]})"
   ]
  },
  {
   "cell_type": "code",
   "execution_count": 25,
   "metadata": {},
   "outputs": [
    {
     "data": {
      "text/html": [
       "<div>\n",
       "<style scoped>\n",
       "    .dataframe tbody tr th:only-of-type {\n",
       "        vertical-align: middle;\n",
       "    }\n",
       "\n",
       "    .dataframe tbody tr th {\n",
       "        vertical-align: top;\n",
       "    }\n",
       "\n",
       "    .dataframe thead th {\n",
       "        text-align: right;\n",
       "    }\n",
       "</style>\n",
       "<table border=\"1\" class=\"dataframe\">\n",
       "  <thead>\n",
       "    <tr style=\"text-align: right;\">\n",
       "      <th></th>\n",
       "      <th>a</th>\n",
       "      <th>isna</th>\n",
       "      <th>Group</th>\n",
       "      <th>count</th>\n",
       "      <th>invalid_rows</th>\n",
       "      <th>Group2</th>\n",
       "    </tr>\n",
       "  </thead>\n",
       "  <tbody>\n",
       "    <tr>\n",
       "      <th>0</th>\n",
       "      <td>1.0</td>\n",
       "      <td>False</td>\n",
       "      <td>1</td>\n",
       "      <td>2</td>\n",
       "      <td>False</td>\n",
       "      <td>1</td>\n",
       "    </tr>\n",
       "    <tr>\n",
       "      <th>1</th>\n",
       "      <td>2.0</td>\n",
       "      <td>False</td>\n",
       "      <td>1</td>\n",
       "      <td>2</td>\n",
       "      <td>False</td>\n",
       "      <td>1</td>\n",
       "    </tr>\n",
       "    <tr>\n",
       "      <th>2</th>\n",
       "      <td>NaN</td>\n",
       "      <td>True</td>\n",
       "      <td>2</td>\n",
       "      <td>3</td>\n",
       "      <td>True</td>\n",
       "      <td>2</td>\n",
       "    </tr>\n",
       "    <tr>\n",
       "      <th>3</th>\n",
       "      <td>NaN</td>\n",
       "      <td>True</td>\n",
       "      <td>2</td>\n",
       "      <td>3</td>\n",
       "      <td>True</td>\n",
       "      <td>2</td>\n",
       "    </tr>\n",
       "    <tr>\n",
       "      <th>4</th>\n",
       "      <td>NaN</td>\n",
       "      <td>True</td>\n",
       "      <td>2</td>\n",
       "      <td>3</td>\n",
       "      <td>True</td>\n",
       "      <td>2</td>\n",
       "    </tr>\n",
       "    <tr>\n",
       "      <th>5</th>\n",
       "      <td>6.0</td>\n",
       "      <td>False</td>\n",
       "      <td>3</td>\n",
       "      <td>5</td>\n",
       "      <td>False</td>\n",
       "      <td>3</td>\n",
       "    </tr>\n",
       "    <tr>\n",
       "      <th>6</th>\n",
       "      <td>7.0</td>\n",
       "      <td>False</td>\n",
       "      <td>3</td>\n",
       "      <td>5</td>\n",
       "      <td>False</td>\n",
       "      <td>3</td>\n",
       "    </tr>\n",
       "    <tr>\n",
       "      <th>7</th>\n",
       "      <td>8.0</td>\n",
       "      <td>False</td>\n",
       "      <td>3</td>\n",
       "      <td>5</td>\n",
       "      <td>False</td>\n",
       "      <td>3</td>\n",
       "    </tr>\n",
       "    <tr>\n",
       "      <th>8</th>\n",
       "      <td>9.0</td>\n",
       "      <td>False</td>\n",
       "      <td>3</td>\n",
       "      <td>5</td>\n",
       "      <td>False</td>\n",
       "      <td>3</td>\n",
       "    </tr>\n",
       "    <tr>\n",
       "      <th>9</th>\n",
       "      <td>10.0</td>\n",
       "      <td>False</td>\n",
       "      <td>3</td>\n",
       "      <td>5</td>\n",
       "      <td>False</td>\n",
       "      <td>3</td>\n",
       "    </tr>\n",
       "    <tr>\n",
       "      <th>10</th>\n",
       "      <td>NaN</td>\n",
       "      <td>True</td>\n",
       "      <td>4</td>\n",
       "      <td>2</td>\n",
       "      <td>False</td>\n",
       "      <td>3</td>\n",
       "    </tr>\n",
       "    <tr>\n",
       "      <th>11</th>\n",
       "      <td>NaN</td>\n",
       "      <td>True</td>\n",
       "      <td>4</td>\n",
       "      <td>2</td>\n",
       "      <td>False</td>\n",
       "      <td>3</td>\n",
       "    </tr>\n",
       "    <tr>\n",
       "      <th>12</th>\n",
       "      <td>13.0</td>\n",
       "      <td>False</td>\n",
       "      <td>5</td>\n",
       "      <td>2</td>\n",
       "      <td>False</td>\n",
       "      <td>3</td>\n",
       "    </tr>\n",
       "    <tr>\n",
       "      <th>13</th>\n",
       "      <td>14.0</td>\n",
       "      <td>False</td>\n",
       "      <td>5</td>\n",
       "      <td>2</td>\n",
       "      <td>False</td>\n",
       "      <td>3</td>\n",
       "    </tr>\n",
       "  </tbody>\n",
       "</table>\n",
       "</div>"
      ],
      "text/plain": [
       "       a   isna  Group  count  invalid_rows  Group2\n",
       "0    1.0  False      1      2         False       1\n",
       "1    2.0  False      1      2         False       1\n",
       "2    NaN   True      2      3          True       2\n",
       "3    NaN   True      2      3          True       2\n",
       "4    NaN   True      2      3          True       2\n",
       "5    6.0  False      3      5         False       3\n",
       "6    7.0  False      3      5         False       3\n",
       "7    8.0  False      3      5         False       3\n",
       "8    9.0  False      3      5         False       3\n",
       "9   10.0  False      3      5         False       3\n",
       "10   NaN   True      4      2         False       3\n",
       "11   NaN   True      4      2         False       3\n",
       "12  13.0  False      5      2         False       3\n",
       "13  14.0  False      5      2         False       3"
      ]
     },
     "execution_count": 25,
     "metadata": {},
     "output_type": "execute_result"
    }
   ],
   "source": [
    "df['isna'] = df.isna()\n",
    "df['Group']=df['isna'].ne(df['isna'].shift()).cumsum()\n",
    "df['count']=df.groupby('Group')['Group'].transform('size')\n",
    "df['invalid_rows']=(df['count']>2) & (df['isna'])\n",
    "df['Group2']=df['invalid_rows'].ne(df['invalid_rows'].shift()).cumsum()\n",
    "df"
   ]
  },
  {
   "cell_type": "code",
   "execution_count": 26,
   "metadata": {},
   "outputs": [
    {
     "name": "stdout",
     "output_type": "stream",
     "text": [
      "2\n"
     ]
    }
   ],
   "source": [
    "l=[]\n",
    "for i, g in df.groupby(df['Group2']):\n",
    "    if g['invalid_rows'].all()==False:\n",
    "        l.append(g)\n",
    "print(len(l))"
   ]
  },
  {
   "cell_type": "markdown",
   "metadata": {},
   "source": [
    "lets try with our dataframe"
   ]
  },
  {
   "cell_type": "code",
   "execution_count": 27,
   "metadata": {},
   "outputs": [
    {
     "name": "stdout",
     "output_type": "stream",
     "text": [
      "38\n"
     ]
    }
   ],
   "source": [
    "threshold=30\n",
    "list_of_dfs_trim=[]\n",
    "\n",
    "df11=df1.copy()\n",
    "df11['isna'] = df11['T_ret'].isna()\n",
    "df11['Group']=df11['isna'].ne(df11['isna'].shift()).cumsum()\n",
    "df11['count']=df11.groupby('Group')['Group'].transform('size')\n",
    "df11['invalid_rows']=(df11['count']>threshold) & (df11['isna'])\n",
    "df11['Group2']=df11['invalid_rows'].ne(df11['invalid_rows'].shift()).cumsum()\n",
    "\n",
    "for i, g in df11.groupby(df11['Group2']):\n",
    "    if g['invalid_rows'].all()==False:\n",
    "        list_of_dfs_trim.append(g)\n",
    "print(len(list_of_dfs_trim))"
   ]
  },
  {
   "cell_type": "markdown",
   "metadata": {},
   "source": [
    "Now, lets see how many nans do the selected dataframes contain, their length, and the biggest number of consecutive nans."
   ]
  },
  {
   "cell_type": "code",
   "execution_count": 28,
   "metadata": {},
   "outputs": [
    {
     "name": "stdout",
     "output_type": "stream",
     "text": [
      "len df: 2520 , total nans: 171 , max num consecutive nans: 1\n",
      "len df: 15862 , total nans: 928 , max num consecutive nans: 3\n",
      "len df: 6991 , total nans: 430 , max num consecutive nans: 2\n",
      "len df: 2879 , total nans: 202 , max num consecutive nans: 2\n",
      "len df: 4259 , total nans: 314 , max num consecutive nans: 2\n",
      "len df: 63 , total nans: 2 , max num consecutive nans: 1\n",
      "len df: 3576 , total nans: 242 , max num consecutive nans: 26\n",
      "len df: 2106 , total nans: 206 , max num consecutive nans: 28\n",
      "len df: 1011 , total nans: 167 , max num consecutive nans: 28\n",
      "len df: 1643 , total nans: 150 , max num consecutive nans: 13\n",
      "len df: 606 , total nans: 61 , max num consecutive nans: 5\n",
      "len df: 479 , total nans: 42 , max num consecutive nans: 7\n",
      "len df: 129 , total nans: 5 , max num consecutive nans: 1\n",
      "len df: 421 , total nans: 43 , max num consecutive nans: 18\n",
      "len df: 75 , total nans: 2 , max num consecutive nans: 1\n",
      "len df: 212 , total nans: 2 , max num consecutive nans: 1\n",
      "len df: 680 , total nans: 65 , max num consecutive nans: 17\n",
      "len df: 344 , total nans: 67 , max num consecutive nans: 28\n",
      "len df: 477 , total nans: 80 , max num consecutive nans: 15\n",
      "len df: 93 , total nans: 13 , max num consecutive nans: 8\n",
      "len df: 97 , total nans: 65 , max num consecutive nans: 16\n",
      "len df: 144 , total nans: 103 , max num consecutive nans: 17\n",
      "len df: 55 , total nans: 37 , max num consecutive nans: 12\n",
      "len df: 8 , total nans: 4 , max num consecutive nans: 4\n",
      "len df: 78 , total nans: 58 , max num consecutive nans: 17\n",
      "len df: 113 , total nans: 85 , max num consecutive nans: 22\n",
      "len df: 185 , total nans: 144 , max num consecutive nans: 22\n",
      "len df: 348 , total nans: 242 , max num consecutive nans: 22\n",
      "len df: 198 , total nans: 146 , max num consecutive nans: 17\n",
      "len df: 79 , total nans: 64 , max num consecutive nans: 19\n",
      "len df: 3 , total nans: 0 , max num consecutive nans: 0\n",
      "len df: 38 , total nans: 22 , max num consecutive nans: 7\n",
      "len df: 38 , total nans: 24 , max num consecutive nans: 7\n",
      "len df: 63 , total nans: 37 , max num consecutive nans: 7\n",
      "len df: 188 , total nans: 135 , max num consecutive nans: 17\n",
      "len df: 10 , total nans: 4 , max num consecutive nans: 4\n",
      "len df: 163 , total nans: 124 , max num consecutive nans: 22\n",
      "len df: 14 , total nans: 7 , max num consecutive nans: 7\n"
     ]
    }
   ],
   "source": [
    "for e in list_of_dfs_trim:\n",
    "    print('len df:', len(e), ', total nans:', e['T_ret'].isna().sum(), ', max num consecutive nans:', e.T_ret.isnull().astype(int).groupby(e.T_ret.notnull().astype(int).cumsum()).sum().max())"
   ]
  },
  {
   "cell_type": "markdown",
   "metadata": {},
   "source": [
    "Filter by df length and fill nan values by linear interpolation"
   ]
  },
  {
   "cell_type": "code",
   "execution_count": 31,
   "metadata": {},
   "outputs": [],
   "source": [
    "list_of_dfs_valid=[]\n",
    "threshold_len=200\n",
    "for e in list_of_dfs_trim:\n",
    "    length=len(e)\n",
    "    if length > threshold_len:\n",
    "        list_of_dfs_valid.append(e.interpolate(method='linear'))"
   ]
  }
 ],
 "metadata": {
  "kernelspec": {
   "display_name": "Python 3",
   "language": "python",
   "name": "python3"
  },
  "language_info": {
   "codemirror_mode": {
    "name": "ipython",
    "version": 3
   },
   "file_extension": ".py",
   "mimetype": "text/x-python",
   "name": "python",
   "nbconvert_exporter": "python",
   "pygments_lexer": "ipython3",
   "version": "3.11.0"
  }
 },
 "nbformat": 4,
 "nbformat_minor": 4
}
