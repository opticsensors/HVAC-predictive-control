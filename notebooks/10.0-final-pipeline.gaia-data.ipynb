{
 "cells": [
  {
   "cell_type": "markdown",
   "metadata": {},
   "source": [
    "# IMPORTS"
   ]
  },
  {
   "cell_type": "code",
   "execution_count": 1,
   "metadata": {},
   "outputs": [
    {
     "name": "stdout",
     "output_type": "stream",
     "text": [
      "(203206, 13)\n"
     ]
    },
    {
     "data": {
      "text/html": [
       "<div>\n",
       "<style scoped>\n",
       "    .dataframe tbody tr th:only-of-type {\n",
       "        vertical-align: middle;\n",
       "    }\n",
       "\n",
       "    .dataframe tbody tr th {\n",
       "        vertical-align: top;\n",
       "    }\n",
       "\n",
       "    .dataframe thead th {\n",
       "        text-align: right;\n",
       "    }\n",
       "</style>\n",
       "<table border=\"1\" class=\"dataframe\">\n",
       "  <thead>\n",
       "    <tr style=\"text-align: right;\">\n",
       "      <th></th>\n",
       "      <th>Unnamed: 0</th>\n",
       "      <th>T_ext</th>\n",
       "      <th>Solar_irrad</th>\n",
       "      <th>T_imp</th>\n",
       "      <th>T_ret</th>\n",
       "      <th>BC1_power</th>\n",
       "      <th>BC2_power</th>\n",
       "      <th>Refr1_power</th>\n",
       "      <th>Refr2_power</th>\n",
       "      <th>BC1_flow</th>\n",
       "      <th>BC2_flow</th>\n",
       "      <th>Refr1_flow</th>\n",
       "      <th>Refr2_flow</th>\n",
       "    </tr>\n",
       "  </thead>\n",
       "  <tbody>\n",
       "    <tr>\n",
       "      <th>0</th>\n",
       "      <td>2022-05-13 12:00:00+00:00</td>\n",
       "      <td>24.40</td>\n",
       "      <td>874.0</td>\n",
       "      <td>9.880005</td>\n",
       "      <td>10.869995</td>\n",
       "      <td>3.05</td>\n",
       "      <td>16.5</td>\n",
       "      <td>15.70</td>\n",
       "      <td>0.25</td>\n",
       "      <td>2923.0</td>\n",
       "      <td>2476.0</td>\n",
       "      <td>0.0</td>\n",
       "      <td>3153.0</td>\n",
       "    </tr>\n",
       "    <tr>\n",
       "      <th>1</th>\n",
       "      <td>2022-05-13 12:01:00+00:00</td>\n",
       "      <td>NaN</td>\n",
       "      <td>NaN</td>\n",
       "      <td>NaN</td>\n",
       "      <td>NaN</td>\n",
       "      <td>3.05</td>\n",
       "      <td>16.3</td>\n",
       "      <td>15.70</td>\n",
       "      <td>0.25</td>\n",
       "      <td>2923.0</td>\n",
       "      <td>2476.0</td>\n",
       "      <td>0.0</td>\n",
       "      <td>3153.0</td>\n",
       "    </tr>\n",
       "    <tr>\n",
       "      <th>2</th>\n",
       "      <td>2022-05-13 12:02:00+00:00</td>\n",
       "      <td>24.35</td>\n",
       "      <td>875.0</td>\n",
       "      <td>9.940002</td>\n",
       "      <td>10.750000</td>\n",
       "      <td>3.10</td>\n",
       "      <td>16.4</td>\n",
       "      <td>15.75</td>\n",
       "      <td>0.30</td>\n",
       "      <td>2793.0</td>\n",
       "      <td>2476.0</td>\n",
       "      <td>0.0</td>\n",
       "      <td>3211.0</td>\n",
       "    </tr>\n",
       "    <tr>\n",
       "      <th>3</th>\n",
       "      <td>2022-05-13 12:03:00+00:00</td>\n",
       "      <td>NaN</td>\n",
       "      <td>NaN</td>\n",
       "      <td>NaN</td>\n",
       "      <td>NaN</td>\n",
       "      <td>3.10</td>\n",
       "      <td>16.5</td>\n",
       "      <td>15.65</td>\n",
       "      <td>0.25</td>\n",
       "      <td>2793.0</td>\n",
       "      <td>2606.0</td>\n",
       "      <td>0.0</td>\n",
       "      <td>3196.0</td>\n",
       "    </tr>\n",
       "    <tr>\n",
       "      <th>4</th>\n",
       "      <td>2022-05-13 12:04:00+00:00</td>\n",
       "      <td>24.51</td>\n",
       "      <td>875.0</td>\n",
       "      <td>9.940002</td>\n",
       "      <td>10.899994</td>\n",
       "      <td>3.05</td>\n",
       "      <td>16.4</td>\n",
       "      <td>15.55</td>\n",
       "      <td>0.25</td>\n",
       "      <td>2779.0</td>\n",
       "      <td>2505.0</td>\n",
       "      <td>0.0</td>\n",
       "      <td>3196.0</td>\n",
       "    </tr>\n",
       "  </tbody>\n",
       "</table>\n",
       "</div>"
      ],
      "text/plain": [
       "                  Unnamed: 0  T_ext  Solar_irrad     T_imp      T_ret  \\\n",
       "0  2022-05-13 12:00:00+00:00  24.40        874.0  9.880005  10.869995   \n",
       "1  2022-05-13 12:01:00+00:00    NaN          NaN       NaN        NaN   \n",
       "2  2022-05-13 12:02:00+00:00  24.35        875.0  9.940002  10.750000   \n",
       "3  2022-05-13 12:03:00+00:00    NaN          NaN       NaN        NaN   \n",
       "4  2022-05-13 12:04:00+00:00  24.51        875.0  9.940002  10.899994   \n",
       "\n",
       "   BC1_power  BC2_power  Refr1_power  Refr2_power  BC1_flow  BC2_flow  \\\n",
       "0       3.05       16.5        15.70         0.25    2923.0    2476.0   \n",
       "1       3.05       16.3        15.70         0.25    2923.0    2476.0   \n",
       "2       3.10       16.4        15.75         0.30    2793.0    2476.0   \n",
       "3       3.10       16.5        15.65         0.25    2793.0    2606.0   \n",
       "4       3.05       16.4        15.55         0.25    2779.0    2505.0   \n",
       "\n",
       "   Refr1_flow  Refr2_flow  \n",
       "0         0.0      3153.0  \n",
       "1         0.0      3153.0  \n",
       "2         0.0      3211.0  \n",
       "3         0.0      3196.0  \n",
       "4         0.0      3196.0  "
      ]
     },
     "execution_count": 1,
     "metadata": {},
     "output_type": "execute_result"
    }
   ],
   "source": [
    "from novelty_detection.data import load_data\n",
    "df = load_data(\"gaia_data.csv\", header_names=None)\n",
    "print(df.shape)\n",
    "df.head()"
   ]
  },
  {
   "cell_type": "markdown",
   "metadata": {},
   "source": [
    "# PREPROCESSING"
   ]
  },
  {
   "cell_type": "code",
   "execution_count": 2,
   "metadata": {},
   "outputs": [],
   "source": [
    "from novelty_detection.preprocessing import *\n",
    "\n",
    "columns = ['T_ext', 'Solar_irrad', 'T_imp', \n",
    "           'BC1_power', 'BC2_power', 'Refr1_power', \n",
    "           'Refr2_power', 'BC1_flow', 'BC2_flow', \n",
    "           'Refr1_flow', 'Refr2_flow', 'T_ret']\n",
    "\n",
    "max_minutes=30\n",
    "rows_to_skip=2\n",
    "max_consecutive_nans=30\n",
    "thresh_len=1000\n",
    "\n",
    "dfs = preprocessing_pipeline(df, max_minutes, rows_to_skip, max_consecutive_nans, thresh_len, columns)"
   ]
  },
  {
   "cell_type": "code",
   "execution_count": 3,
   "metadata": {},
   "outputs": [
    {
     "name": "stdout",
     "output_type": "stream",
     "text": [
      "(15862, 12)\n"
     ]
    },
    {
     "data": {
      "text/html": [
       "<div>\n",
       "<style scoped>\n",
       "    .dataframe tbody tr th:only-of-type {\n",
       "        vertical-align: middle;\n",
       "    }\n",
       "\n",
       "    .dataframe tbody tr th {\n",
       "        vertical-align: top;\n",
       "    }\n",
       "\n",
       "    .dataframe thead th {\n",
       "        text-align: right;\n",
       "    }\n",
       "</style>\n",
       "<table border=\"1\" class=\"dataframe\">\n",
       "  <thead>\n",
       "    <tr style=\"text-align: right;\">\n",
       "      <th></th>\n",
       "      <th>T_ext</th>\n",
       "      <th>Solar_irrad</th>\n",
       "      <th>T_imp</th>\n",
       "      <th>BC1_power</th>\n",
       "      <th>BC2_power</th>\n",
       "      <th>Refr1_power</th>\n",
       "      <th>Refr2_power</th>\n",
       "      <th>BC1_flow</th>\n",
       "      <th>BC2_flow</th>\n",
       "      <th>Refr1_flow</th>\n",
       "      <th>Refr2_flow</th>\n",
       "      <th>T_ret</th>\n",
       "    </tr>\n",
       "    <tr>\n",
       "      <th>datetime</th>\n",
       "      <th></th>\n",
       "      <th></th>\n",
       "      <th></th>\n",
       "      <th></th>\n",
       "      <th></th>\n",
       "      <th></th>\n",
       "      <th></th>\n",
       "      <th></th>\n",
       "      <th></th>\n",
       "      <th></th>\n",
       "      <th></th>\n",
       "      <th></th>\n",
       "    </tr>\n",
       "  </thead>\n",
       "  <tbody>\n",
       "    <tr>\n",
       "      <th>2022-05-18 00:02:00+00:00</th>\n",
       "      <td>19.450001</td>\n",
       "      <td>0.0</td>\n",
       "      <td>15.040009</td>\n",
       "      <td>0.2</td>\n",
       "      <td>0.3</td>\n",
       "      <td>0.3</td>\n",
       "      <td>0.3</td>\n",
       "      <td>0.0</td>\n",
       "      <td>0.0</td>\n",
       "      <td>0.0</td>\n",
       "      <td>0.0</td>\n",
       "      <td>15.320007</td>\n",
       "    </tr>\n",
       "    <tr>\n",
       "      <th>2022-05-18 00:04:00+00:00</th>\n",
       "      <td>19.450001</td>\n",
       "      <td>0.0</td>\n",
       "      <td>15.070007</td>\n",
       "      <td>0.2</td>\n",
       "      <td>0.3</td>\n",
       "      <td>0.3</td>\n",
       "      <td>0.3</td>\n",
       "      <td>0.0</td>\n",
       "      <td>0.0</td>\n",
       "      <td>0.0</td>\n",
       "      <td>0.0</td>\n",
       "      <td>15.320007</td>\n",
       "    </tr>\n",
       "    <tr>\n",
       "      <th>2022-05-18 00:06:00+00:00</th>\n",
       "      <td>19.450001</td>\n",
       "      <td>0.0</td>\n",
       "      <td>14.980011</td>\n",
       "      <td>0.2</td>\n",
       "      <td>0.3</td>\n",
       "      <td>0.3</td>\n",
       "      <td>0.3</td>\n",
       "      <td>0.0</td>\n",
       "      <td>0.0</td>\n",
       "      <td>0.0</td>\n",
       "      <td>0.0</td>\n",
       "      <td>15.260010</td>\n",
       "    </tr>\n",
       "    <tr>\n",
       "      <th>2022-05-18 00:08:00+00:00</th>\n",
       "      <td>19.510000</td>\n",
       "      <td>0.0</td>\n",
       "      <td>15.040009</td>\n",
       "      <td>0.2</td>\n",
       "      <td>0.3</td>\n",
       "      <td>0.3</td>\n",
       "      <td>0.3</td>\n",
       "      <td>0.0</td>\n",
       "      <td>0.0</td>\n",
       "      <td>0.0</td>\n",
       "      <td>0.0</td>\n",
       "      <td>15.260010</td>\n",
       "    </tr>\n",
       "    <tr>\n",
       "      <th>2022-05-18 00:10:00+00:00</th>\n",
       "      <td>19.510000</td>\n",
       "      <td>0.0</td>\n",
       "      <td>15.110001</td>\n",
       "      <td>0.2</td>\n",
       "      <td>0.3</td>\n",
       "      <td>0.3</td>\n",
       "      <td>0.3</td>\n",
       "      <td>0.0</td>\n",
       "      <td>0.0</td>\n",
       "      <td>0.0</td>\n",
       "      <td>0.0</td>\n",
       "      <td>15.275009</td>\n",
       "    </tr>\n",
       "  </tbody>\n",
       "</table>\n",
       "</div>"
      ],
      "text/plain": [
       "                               T_ext  Solar_irrad      T_imp  BC1_power  \\\n",
       "datetime                                                                  \n",
       "2022-05-18 00:02:00+00:00  19.450001          0.0  15.040009        0.2   \n",
       "2022-05-18 00:04:00+00:00  19.450001          0.0  15.070007        0.2   \n",
       "2022-05-18 00:06:00+00:00  19.450001          0.0  14.980011        0.2   \n",
       "2022-05-18 00:08:00+00:00  19.510000          0.0  15.040009        0.2   \n",
       "2022-05-18 00:10:00+00:00  19.510000          0.0  15.110001        0.2   \n",
       "\n",
       "                           BC2_power  Refr1_power  Refr2_power  BC1_flow  \\\n",
       "datetime                                                                   \n",
       "2022-05-18 00:02:00+00:00        0.3          0.3          0.3       0.0   \n",
       "2022-05-18 00:04:00+00:00        0.3          0.3          0.3       0.0   \n",
       "2022-05-18 00:06:00+00:00        0.3          0.3          0.3       0.0   \n",
       "2022-05-18 00:08:00+00:00        0.3          0.3          0.3       0.0   \n",
       "2022-05-18 00:10:00+00:00        0.3          0.3          0.3       0.0   \n",
       "\n",
       "                           BC2_flow  Refr1_flow  Refr2_flow      T_ret  \n",
       "datetime                                                                \n",
       "2022-05-18 00:02:00+00:00       0.0         0.0         0.0  15.320007  \n",
       "2022-05-18 00:04:00+00:00       0.0         0.0         0.0  15.320007  \n",
       "2022-05-18 00:06:00+00:00       0.0         0.0         0.0  15.260010  \n",
       "2022-05-18 00:08:00+00:00       0.0         0.0         0.0  15.260010  \n",
       "2022-05-18 00:10:00+00:00       0.0         0.0         0.0  15.275009  "
      ]
     },
     "execution_count": 3,
     "metadata": {},
     "output_type": "execute_result"
    }
   ],
   "source": [
    "choosen_df=1\n",
    "df_index = dfs[choosen_df]\n",
    "print(df_index.shape)\n",
    "df_index.head()"
   ]
  },
  {
   "cell_type": "markdown",
   "metadata": {},
   "source": [
    "# DECISION PLOTS"
   ]
  },
  {
   "cell_type": "code",
   "execution_count": 4,
   "metadata": {},
   "outputs": [],
   "source": [
    "from novelty_detection.data import save_img\n",
    "\n",
    "x_columns = ['T_ext', 'Solar_irrad', 'T_imp', \n",
    "           'BC1_power', 'BC2_power', 'Refr1_power', \n",
    "           'Refr2_power', 'BC1_flow', 'BC2_flow', \n",
    "           'Refr1_flow', 'Refr2_flow']\n",
    "\n",
    "y_column = ['T_ret']\n",
    "\n",
    "all_columns = x_columns + y_column\n",
    "\n",
    "plt1 = timeseries_plot(df_index, all_columns, (3,4), plot_size=(500,800), margin=300, spacing =435, dpi=200.)\n",
    "plt2 = correlation_plot(df_index, x_columns, max_shift=2000, plot_size=(600,1000), margin=300, spacing =435, dpi=200.)\n",
    "plt3 = frequency_plot(df_index, all_columns, (3,4), frate=1/120, max_freq=0.00004, plot_size=(500,800), margin=150, spacing =300, dpi=200.)\n",
    "\n",
    "save_img(plt1, 'timeseries_plot.png', data_type='plots')\n",
    "save_img(plt2, 'correlation_plot.png', data_type='plots')\n",
    "save_img(plt3, 'frequency_plot.png', data_type='plots')"
   ]
  },
  {
   "cell_type": "markdown",
   "metadata": {},
   "source": [
    "# SOM"
   ]
  },
  {
   "cell_type": "markdown",
   "metadata": {},
   "source": [
    "## Split"
   ]
  },
  {
   "cell_type": "code",
   "execution_count": 5,
   "metadata": {},
   "outputs": [
    {
     "name": "stdout",
     "output_type": "stream",
     "text": [
      "x train shape:  (12689, 11)\n",
      "y train shape:  (12689, 1)\n",
      "x test shape:  (3173, 11)\n",
      "x test shape:  (3173, 1)\n"
     ]
    }
   ],
   "source": [
    "from sklearn.model_selection import train_test_split\n",
    "\n",
    "X=df_index[x_columns].to_numpy()\n",
    "y=df_index[y_column].to_numpy()\n",
    "\n",
    "# train and test split\n",
    "train_x, test_x, train_y, test_y = train_test_split(X, y, test_size=0.2, random_state=42)\n",
    "print('x train shape: ', train_x.shape)\n",
    "print('y train shape: ', train_y.shape) \n",
    "print('x test shape: ', test_x.shape)\n",
    "print('x test shape: ', test_y.shape)"
   ]
  },
  {
   "cell_type": "markdown",
   "metadata": {},
   "source": [
    "## Scale"
   ]
  },
  {
   "cell_type": "code",
   "execution_count": 6,
   "metadata": {},
   "outputs": [],
   "source": [
    "from novelty_detection.preprocessing import minmax_scaler_given_parameters, std_scaler_given_parameters\n",
    "\n",
    "max_val = train_x.max()\n",
    "min_val = train_x.min()\n",
    "mu = train_x.mean(0)\n",
    "s = train_x.std(0)\n",
    "\n",
    "#train_x_norm = minmax_scaler_given_parameters(train_x, min_val, max_val)\n",
    "#test_x_norm = minmax_scaler_given_parameters(test_x, min_val, max_val)\n",
    "\n",
    "train_x_norm = std_scaler_given_parameters(train_x, mu, s)\n",
    "test_x_norm = std_scaler_given_parameters(test_x, mu, s)"
   ]
  },
  {
   "cell_type": "markdown",
   "metadata": {},
   "source": [
    "## Training"
   ]
  },
  {
   "cell_type": "code",
   "execution_count": 13,
   "metadata": {},
   "outputs": [],
   "source": [
    "from novelty_detection.som import SOM\n",
    "\n",
    "model=SOM(som_grid_size=(20,20),\n",
    "          max_distance=4,\n",
    "          learning_rate_0=0.5,\n",
    "          max_iter=100000,\n",
    "          random_state=0,\n",
    "          sigma_0=1, \n",
    "          sigma_decay=0.0005,\n",
    "          learning_rate_decay=0.0005,\n",
    "          methods={'init_som': 'sq_normal',\n",
    "                  'bmu_distance': 'cityblock',\n",
    "                  'compute_neighborhood': 'half',\n",
    "                  'update_sigma_and_learning_rate': 'constant'}) \n",
    "model=model.fit(train_x_norm, epochs=8)\n",
    "som=model.som\n",
    "som_dataset=som.reshape(-1,som.shape[2])"
   ]
  },
  {
   "cell_type": "code",
   "execution_count": 15,
   "metadata": {},
   "outputs": [
    {
     "name": "stdout",
     "output_type": "stream",
     "text": [
      "SOM data 2D: Total = 0.8612131431510326 and per components = [0.7262195  0.13499364]\n",
      "Train data 2D: Total = 0.7395463303849981 and per components = [0.60648735 0.13305898]\n"
     ]
    }
   ],
   "source": [
    "from sklearn.decomposition import PCA\n",
    "\n",
    "# 2D vizualization\n",
    "pca = PCA(n_components = 2)\n",
    "pca_som = pca.fit_transform(som_dataset)\n",
    "\n",
    "# Amount of explained variance kept 2D\n",
    "exp_variance_2d = pca.explained_variance_ratio_\n",
    "print(f\"SOM data 2D: Total = {np.sum(exp_variance_2d)} and per components = {exp_variance_2d}\")\n",
    "\n",
    "# 3D vizualization\n",
    "pca_train = pca.fit_transform(train_x_norm)\n",
    "exp_variance_2d = pca.explained_variance_ratio_\n",
    "print(f\"Train data 2D: Total = {np.sum(exp_variance_2d)} and per components = {exp_variance_2d}\")"
   ]
  },
  {
   "cell_type": "code",
   "execution_count": 16,
   "metadata": {},
   "outputs": [
    {
     "data": {
      "image/png": "[encoded data removed]",
      "text/plain": [
       "<Figure size 640x480 with 1 Axes>"
      ]
     },
     "metadata": {},
     "output_type": "display_data"
    }
   ],
   "source": [
    "# Plot of the 2D PCA results\n",
    "fig, ax = plt.subplots()\n",
    "\n",
    "ax.scatter(pca_train[:,0], pca_train[:,1], color=\"red\", label=\"train data\", edgecolors='none')\n",
    "ax.scatter(pca_som[:,0], pca_som[:,1], color=\"orange\", label=\"som data\", edgecolors='none')\n",
    "#ax.scatter(-pca_som[:,0]+0.25, pca_som[:,1], color=\"blue\", label=\"som data transformed\", edgecolors='none')\n",
    "\n",
    "ax.legend()\n",
    "ax.grid(True)\n",
    "\n",
    "fig.suptitle(f\"2D PCA with exp variance = {round(np.sum(exp_variance_2d), 3)}\")\n",
    "\n",
    "plt.show()"
   ]
  }
 ],
 "metadata": {
  "kernelspec": {
   "display_name": "Python 3",
   "language": "python",
   "name": "python3"
  },
  "language_info": {
   "codemirror_mode": {
    "name": "ipython",
    "version": 3
   },
   "file_extension": ".py",
   "mimetype": "text/x-python",
   "name": "python",
   "nbconvert_exporter": "python",
   "pygments_lexer": "ipython3",
   "version": "3.11.0"
  }
 },
 "nbformat": 4,
 "nbformat_minor": 2
}
