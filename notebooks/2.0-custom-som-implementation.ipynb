{
 "cells": [
  {
   "cell_type": "markdown",
   "metadata": {},
   "source": [
    "# IMPORTS"
   ]
  },
  {
   "cell_type": "markdown",
   "metadata": {},
   "source": [
    "## Libraries"
   ]
  },
  {
   "cell_type": "code",
   "execution_count": 1,
   "metadata": {},
   "outputs": [],
   "source": [
    "import numpy as np\n",
    "from sklearn.model_selection import train_test_split\n",
    "from sklearn.metrics import accuracy_score #scoring\n",
    "from sklearn.metrics import confusion_matrix\n",
    "from sklearn.metrics import average_precision_score\n",
    "from sklearn.decomposition import PCA\n",
    "import matplotlib.pyplot as plt\n",
    "from matplotlib import colors"
   ]
  },
  {
   "cell_type": "markdown",
   "metadata": {},
   "source": [
    "## Data"
   ]
  },
  {
   "cell_type": "code",
   "execution_count": 2,
   "metadata": {},
   "outputs": [
    {
     "name": "stdout",
     "output_type": "stream",
     "text": [
      "(1372, 5)\n"
     ]
    },
    {
     "data": {
      "text/html": [
       "<div>\n",
       "<style scoped>\n",
       "    .dataframe tbody tr th:only-of-type {\n",
       "        vertical-align: middle;\n",
       "    }\n",
       "\n",
       "    .dataframe tbody tr th {\n",
       "        vertical-align: top;\n",
       "    }\n",
       "\n",
       "    .dataframe thead th {\n",
       "        text-align: right;\n",
       "    }\n",
       "</style>\n",
       "<table border=\"1\" class=\"dataframe\">\n",
       "  <thead>\n",
       "    <tr style=\"text-align: right;\">\n",
       "      <th></th>\n",
       "      <th>x1</th>\n",
       "      <th>x2</th>\n",
       "      <th>x3</th>\n",
       "      <th>x4</th>\n",
       "      <th>y</th>\n",
       "    </tr>\n",
       "  </thead>\n",
       "  <tbody>\n",
       "    <tr>\n",
       "      <th>0</th>\n",
       "      <td>3.62160</td>\n",
       "      <td>8.6661</td>\n",
       "      <td>-2.8073</td>\n",
       "      <td>-0.44699</td>\n",
       "      <td>0</td>\n",
       "    </tr>\n",
       "    <tr>\n",
       "      <th>1</th>\n",
       "      <td>4.54590</td>\n",
       "      <td>8.1674</td>\n",
       "      <td>-2.4586</td>\n",
       "      <td>-1.46210</td>\n",
       "      <td>0</td>\n",
       "    </tr>\n",
       "    <tr>\n",
       "      <th>2</th>\n",
       "      <td>3.86600</td>\n",
       "      <td>-2.6383</td>\n",
       "      <td>1.9242</td>\n",
       "      <td>0.10645</td>\n",
       "      <td>0</td>\n",
       "    </tr>\n",
       "    <tr>\n",
       "      <th>3</th>\n",
       "      <td>3.45660</td>\n",
       "      <td>9.5228</td>\n",
       "      <td>-4.0112</td>\n",
       "      <td>-3.59440</td>\n",
       "      <td>0</td>\n",
       "    </tr>\n",
       "    <tr>\n",
       "      <th>4</th>\n",
       "      <td>0.32924</td>\n",
       "      <td>-4.4552</td>\n",
       "      <td>4.5718</td>\n",
       "      <td>-0.98880</td>\n",
       "      <td>0</td>\n",
       "    </tr>\n",
       "  </tbody>\n",
       "</table>\n",
       "</div>"
      ],
      "text/plain": [
       "        x1      x2      x3       x4  y\n",
       "0  3.62160  8.6661 -2.8073 -0.44699  0\n",
       "1  4.54590  8.1674 -2.4586 -1.46210  0\n",
       "2  3.86600 -2.6383  1.9242  0.10645  0\n",
       "3  3.45660  9.5228 -4.0112 -3.59440  0\n",
       "4  0.32924 -4.4552  4.5718 -0.98880  0"
      ]
     },
     "execution_count": 2,
     "metadata": {},
     "output_type": "execute_result"
    }
   ],
   "source": [
    "from novelty_detection.data import load_data\n",
    "data = load_data(\"banknote_authentication.txt\", header_names=['x1', 'x2', 'x3', 'x4', 'y'])\n",
    "print(data.shape)\n",
    "data.head()"
   ]
  },
  {
   "cell_type": "markdown",
   "metadata": {},
   "source": [
    "# PREPROCESSING"
   ]
  },
  {
   "cell_type": "code",
   "execution_count": 3,
   "metadata": {},
   "outputs": [],
   "source": [
    "X=data[['x1', 'x2', 'x3', 'x4']].to_numpy()\n",
    "y=data[['y']].to_numpy()"
   ]
  },
  {
   "cell_type": "markdown",
   "metadata": {},
   "source": [
    "## Split"
   ]
  },
  {
   "cell_type": "code",
   "execution_count": 4,
   "metadata": {},
   "outputs": [
    {
     "name": "stdout",
     "output_type": "stream",
     "text": [
      "x train shape:  (1097, 4)\n",
      "y train shape:  (1097, 1)\n",
      "x test shape:  (275, 4)\n",
      "x test shape:  (275, 1)\n"
     ]
    }
   ],
   "source": [
    "# train and test split\n",
    "train_x, test_x, train_y, test_y = train_test_split(X, y, test_size=0.2, random_state=42)\n",
    "print('x train shape: ', train_x.shape)\n",
    "print('y train shape: ', train_y.shape) \n",
    "print('x test shape: ', test_x.shape)\n",
    "print('x test shape: ', test_y.shape)"
   ]
  },
  {
   "cell_type": "markdown",
   "metadata": {},
   "source": [
    "## Scale"
   ]
  },
  {
   "cell_type": "code",
   "execution_count": 5,
   "metadata": {},
   "outputs": [],
   "source": [
    "from novelty_detection.preprocessing import minmax_scaler\n",
    "train_x_norm = minmax_scaler(train_x)\n",
    "test_x_norm = minmax_scaler(test_x)\n",
    "X_norm = minmax_scaler(X)"
   ]
  },
  {
   "cell_type": "markdown",
   "metadata": {},
   "source": [
    "# TRAINING"
   ]
  },
  {
   "cell_type": "code",
   "execution_count": 16,
   "metadata": {},
   "outputs": [],
   "source": [
    "from novelty_detection.som import SOM\n",
    "\n",
    "model=SOM(som_grid_size=(10,10),\n",
    "          max_distance=4,\n",
    "          learning_rate=0.5,\n",
    "          max_iter=10000,\n",
    "          random_state=40,\n",
    "          methods={'init_som': 'uniform',\n",
    "                    'bmu_distance': 'cityblock',\n",
    "                    'compute_neighborhood': 'ceil',\n",
    "                    'update_sigma_and_learning_rate': 'linear'})\n",
    "\n",
    "model=model.fit_with_iterations(train_x_norm)"
   ]
  },
  {
   "cell_type": "markdown",
   "metadata": {},
   "source": [
    "## SOM data visualization with PCA"
   ]
  },
  {
   "cell_type": "markdown",
   "metadata": {},
   "source": [
    "Convert som data (3d array) to data i a dataset structure (every row is a cell from the som matrix)"
   ]
  },
  {
   "cell_type": "code",
   "execution_count": 22,
   "metadata": {},
   "outputs": [],
   "source": [
    "som=model.som\n",
    "som_dataset=som.reshape(-1,som.shape[2])"
   ]
  },
  {
   "cell_type": "code",
   "execution_count": 23,
   "metadata": {},
   "outputs": [
    {
     "name": "stdout",
     "output_type": "stream",
     "text": [
      "2D: Total = 0.9016754679897241 and per components = [0.59852257 0.3031529 ]\n",
      "3D: Total = 0.9729271586269347 and per components = [0.59852257 0.3031529  0.07125169]\n"
     ]
    }
   ],
   "source": [
    "# 2D vizualization\n",
    "pca = PCA(n_components = 2)\n",
    "X2D = pca.fit_transform(som_dataset)\n",
    "\n",
    "# Amount of explained variance kept 2D\n",
    "exp_variance_2d = pca.explained_variance_ratio_\n",
    "print(f\"2D: Total = {np.sum(exp_variance_2d)} and per components = {exp_variance_2d}\")\n",
    "\n",
    "# 3D vizualization\n",
    "pca = PCA(n_components = 3)\n",
    "X3D = pca.fit_transform(som_dataset)\n",
    "\n",
    "# Amount of explained variance kept 3D\n",
    "exp_variance_3d = pca.explained_variance_ratio_\n",
    "print(f\"3D: Total = {np.sum(exp_variance_3d)} and per components = {exp_variance_3d}\")"
   ]
  },
  {
   "cell_type": "code",
   "execution_count": 24,
   "metadata": {},
   "outputs": [
    {
     "data": {
      "image/png": "[encoded data removed]",
      "text/plain": [
       "<Figure size 640x480 with 1 Axes>"
      ]
     },
     "metadata": {},
     "output_type": "display_data"
    }
   ],
   "source": [
    "y_flat = y.ravel()\n",
    "\n",
    "# Plot of the 2D PCA results\n",
    "fig, ax = plt.subplots()\n",
    "\n",
    "ax.scatter(X2D[:,0], X2D[:,1], color=\"blue\", label=\"0\", edgecolors='none')\n",
    "\n",
    "ax.legend()\n",
    "ax.grid(True)\n",
    "\n",
    "fig.suptitle(f\"2D PCA with exp variance = {round(np.sum(exp_variance_2d), 3)}\")\n",
    "\n",
    "plt.show()"
   ]
  },
  {
   "cell_type": "markdown",
   "metadata": {},
   "source": [
    "# PREDICT"
   ]
  },
  {
   "cell_type": "code",
   "execution_count": 38,
   "metadata": {},
   "outputs": [],
   "source": [
    "def find_bmu(X_row, som):\n",
    "    \"\"\"\n",
    "    Find the index of the best matching unit for the input vector X_row.\n",
    "    \"\"\"\n",
    "    # min coordinates are the same for distance and the square of distance \n",
    "    distances = np.square(som - X_row).sum(axis=2)\n",
    "    bmu_coordinates = np.unravel_index(distances.argmin().astype(int), (10,10))\n",
    "    \n",
    "    return bmu_coordinates"
   ]
  },
  {
   "cell_type": "code",
   "execution_count": 39,
   "metadata": {},
   "outputs": [
    {
     "data": {
      "text/plain": [
       "(1, 6)"
      ]
     },
     "execution_count": 39,
     "metadata": {},
     "output_type": "execute_result"
    }
   ],
   "source": [
    "X_row=test_x_norm[0]\n",
    "find_bmu(X_row, som)"
   ]
  },
  {
   "cell_type": "code",
   "execution_count": 40,
   "metadata": {},
   "outputs": [
    {
     "data": {
      "text/plain": [
       "array([[17., 14., 14.,  7., 14.,  2.,  9., 12.,  7., 34.],\n",
       "       [14., 17.,  7.,  5., 18.,  5., 19.,  5.,  7., 15.],\n",
       "       [13.,  1., 11., 12.,  7., 10., 15., 15., 12., 10.],\n",
       "       [12.,  6., 16., 17., 14.,  5.,  8., 10., 10., 13.],\n",
       "       [ 6.,  9.,  7., 19., 18.,  2., 18., 10., 17., 11.],\n",
       "       [10.,  2., 27.,  4., 21., 10., 10., 12.,  6.,  8.],\n",
       "       [ 3., 19.,  0.,  7.,  9.,  2., 13., 12., 13., 11.],\n",
       "       [19.,  7.,  3., 18.,  1., 17., 13.,  4., 21., 18.],\n",
       "       [ 6.,  6., 16., 13.,  6.,  5., 10., 10.,  1.,  8.],\n",
       "       [21.,  3., 12.,  1., 17.,  5., 14., 14., 21., 12.]])"
      ]
     },
     "execution_count": 40,
     "metadata": {},
     "output_type": "execute_result"
    }
   ],
   "source": [
    "X=train_x_norm\n",
    "som_grid_shape = (10,10)\n",
    "bmu_counts = np.zeros(shape=som_grid_shape)\n",
    "for X_row in X:\n",
    "    bmu = find_bmu(X_row, som)\n",
    "    bmu_counts[bmu] += 1\n",
    "\n",
    "bmu_counts"
   ]
  },
  {
   "cell_type": "code",
   "execution_count": 41,
   "metadata": {},
   "outputs": [
    {
     "data": {
      "text/plain": [
       "array([[17., 14., 14.,  7., 14.,  2.,  9., 12.,  7., 34.],\n",
       "       [14., 17.,  7.,  5., 18.,  5., 19.,  5.,  7., 15.],\n",
       "       [13.,  1., 11., 12.,  7., 10., 15., 15., 12., 10.],\n",
       "       [12.,  6., 16., 17., 14.,  5.,  8., 10., 10., 13.],\n",
       "       [ 6.,  9.,  7., 19., 18.,  2., 18., 10., 17., 11.],\n",
       "       [10.,  2., 27.,  4., 21., 10., 10., 12.,  6.,  8.],\n",
       "       [ 3., 19.,  0.,  7.,  9.,  2., 13., 12., 13., 11.],\n",
       "       [19.,  7.,  3., 18.,  1., 17., 13.,  4., 21., 18.],\n",
       "       [ 6.,  6., 16., 13.,  6.,  5., 10., 10.,  1.,  8.],\n",
       "       [21.,  3., 12.,  1., 17.,  5., 14., 14., 21., 12.]])"
      ]
     },
     "execution_count": 41,
     "metadata": {},
     "output_type": "execute_result"
    }
   ],
   "source": [
    "from novelty_detection.utils import (argmin_first_two_axes,\n",
    "                                     choose_random_sample,\n",
    "                                     choose_random_array)\n",
    "\n",
    "#generate a distance map for every X row (every third dim belongs to a row)\n",
    "som_bro = som[:,:,:,np.newaxis]\n",
    "data_bro = X.T[np.newaxis,np.newaxis, :, :]\n",
    "distance_map = np.sqrt(np.sum((som_bro-data_bro)**2, axis=2))\n",
    "# find the min distance indices for every third dim \n",
    "idx=argmin_first_two_axes(distance_map)\n",
    "unique_idx, counts_idx = np.unique(idx, return_counts=True, axis=0)\n",
    "occurence_freq_map = np.zeros(shape=(10,10))\n",
    "occurence_freq_map[unique_idx[:,0], unique_idx[:,1]] = counts_idx\n",
    "occurence_freq_map"
   ]
  },
  {
   "cell_type": "code",
   "execution_count": 58,
   "metadata": {},
   "outputs": [
    {
     "data": {
      "text/plain": [
       "array([[0.18937094, 0.8341777 , 0.24671085, 0.22777765],\n",
       "       [0.31467903, 0.89357391, 0.24553466, 0.24306523],\n",
       "       [0.44022121, 0.8678071 , 0.1865205 , 0.23908793],\n",
       "       [0.49274347, 0.73542756, 0.08022148, 0.31521922],\n",
       "       [0.52758895, 0.66767327, 0.03938689, 0.38951533],\n",
       "       [0.56570927, 0.85614646, 0.19586973, 0.49343758],\n",
       "       [0.62034552, 0.87988694, 0.1566842 , 0.44554613],\n",
       "       [0.72079557, 0.89587548, 0.08429993, 0.40943896],\n",
       "       [0.7824161 , 0.89736096, 0.05611604, 0.40993735],\n",
       "       [0.19818386, 0.80000438, 0.24907753, 0.32904761],\n",
       "       [0.31919949, 0.86978266, 0.28201638, 0.34353732],\n",
       "       [0.39961289, 0.8122321 , 0.2154778 , 0.39140435],\n",
       "       [0.44377311, 0.68408703, 0.13136727, 0.45591463],\n",
       "       [0.49056987, 0.65085679, 0.08174785, 0.48473545],\n",
       "       [0.54703872, 0.72759883, 0.12807121, 0.56569187],\n",
       "       [0.57805204, 0.82880325, 0.19533561, 0.58489017],\n",
       "       [0.60374025, 0.85306909, 0.16878952, 0.56135656],\n",
       "       [0.72711083, 0.86637623, 0.0950507 , 0.53909651],\n",
       "       [0.80184313, 0.87886897, 0.06309365, 0.46100069],\n",
       "       [0.18822062, 0.72047779, 0.23111237, 0.44500256],\n",
       "       [0.37605663, 0.66244107, 0.19489091, 0.56987318],\n",
       "       [0.39295804, 0.62706576, 0.15277764, 0.58574157],\n",
       "       [0.47141956, 0.62022465, 0.10845995, 0.61925727],\n",
       "       [0.56844397, 0.72469397, 0.11426271, 0.64202584],\n",
       "       [0.58392261, 0.81168283, 0.17133393, 0.64971185],\n",
       "       [0.65867716, 0.81935149, 0.15061765, 0.67490545],\n",
       "       [0.725183  , 0.83343748, 0.11579924, 0.67237198],\n",
       "       [0.80754955, 0.83149475, 0.09403093, 0.64579394],\n",
       "       [0.23344691, 0.64260334, 0.25666679, 0.63368153],\n",
       "       [0.28983195, 0.60511299, 0.23735502, 0.69332382],\n",
       "       [0.3378659 , 0.59749041, 0.20409038, 0.67635348],\n",
       "       [0.41710631, 0.57259875, 0.16770229, 0.69287847],\n",
       "       [0.49518897, 0.57781315, 0.1376351 , 0.73374126],\n",
       "       [0.55125696, 0.64591047, 0.13563487, 0.71579435],\n",
       "       [0.59629975, 0.76112924, 0.22068689, 0.71836822],\n",
       "       [0.65839084, 0.78207188, 0.18676172, 0.73091079],\n",
       "       [0.76553702, 0.784098  , 0.13981662, 0.73220646],\n",
       "       [0.85755471, 0.78307333, 0.12341612, 0.72632711],\n",
       "       [0.26311002, 0.56262397, 0.30302933, 0.76450124],\n",
       "       [0.29385403, 0.55007877, 0.28639684, 0.76694247],\n",
       "       [0.36840383, 0.51030043, 0.25708261, 0.80672547],\n",
       "       [0.43809269, 0.51596428, 0.21859067, 0.79061479],\n",
       "       [0.4980252 , 0.52948496, 0.18027265, 0.80471038],\n",
       "       [0.58267149, 0.72884907, 0.27676961, 0.78289055],\n",
       "       [0.66718479, 0.73759553, 0.22753011, 0.78273817],\n",
       "       [0.76545852, 0.74531721, 0.18106242, 0.80147899],\n",
       "       [0.85038687, 0.73652518, 0.14680602, 0.80866712],\n",
       "       [0.30069772, 0.47094165, 0.37819023, 0.81769209],\n",
       "       [0.37158593, 0.47873099, 0.30998582, 0.86979691],\n",
       "       [0.42097347, 0.47261879, 0.27611831, 0.86487037],\n",
       "       [0.5015606 , 0.49713779, 0.24297744, 0.83999024],\n",
       "       [0.54042709, 0.55603412, 0.26913262, 0.82163825],\n",
       "       [0.5905162 , 0.64913585, 0.31080511, 0.79825131],\n",
       "       [0.66512813, 0.66664174, 0.27731044, 0.82434289],\n",
       "       [0.77584467, 0.67608034, 0.21153948, 0.83944384],\n",
       "       [0.85602847, 0.64166501, 0.20163603, 0.87614232],\n",
       "       [0.28859733, 0.30640288, 0.5628504 , 0.82467575],\n",
       "       [0.34279895, 0.29649785, 0.52559226, 0.87325269],\n",
       "       [0.43001622, 0.34815926, 0.38960972, 0.8591447 ],\n",
       "       [0.48560591, 0.43658573, 0.29589568, 0.87402472],\n",
       "       [0.62003421, 0.59751684, 0.37693839, 0.82495742],\n",
       "       [0.6935819 , 0.60146287, 0.32034701, 0.83908941],\n",
       "       [0.77242055, 0.59127657, 0.2711138 , 0.87492036],\n",
       "       [0.83169308, 0.60104882, 0.23854855, 0.90092577],\n",
       "       [0.2346871 , 0.26565051, 0.67335541, 0.75126085],\n",
       "       [0.29792916, 0.25770442, 0.60580039, 0.82340885],\n",
       "       [0.38613909, 0.23350154, 0.52531871, 0.81926857],\n",
       "       [0.41295894, 0.27887536, 0.44941057, 0.82962414],\n",
       "       [0.51114283, 0.5171956 , 0.51931954, 0.80514309],\n",
       "       [0.58213944, 0.52556889, 0.45027539, 0.81817847],\n",
       "       [0.71693624, 0.5246255 , 0.33424606, 0.84188048],\n",
       "       [0.77438574, 0.55529294, 0.2888752 , 0.88681789],\n",
       "       [0.81965595, 0.5545475 , 0.26533394, 0.91160478],\n",
       "       [0.22330935, 0.16732996, 0.78332345, 0.66191665],\n",
       "       [0.30555874, 0.16820389, 0.66751926, 0.71930779],\n",
       "       [0.36202167, 0.18598355, 0.57610229, 0.73328846],\n",
       "       [0.41103548, 0.25890311, 0.48603866, 0.77993365],\n",
       "       [0.51655938, 0.33389847, 0.50498557, 0.70669523],\n",
       "       [0.5294638 , 0.44978063, 0.49050749, 0.77330093],\n",
       "       [0.65393603, 0.42659698, 0.41317765, 0.75996531],\n",
       "       [0.7295683 , 0.41466046, 0.36112587, 0.78558118],\n",
       "       [0.83929026, 0.48491395, 0.28581705, 0.912833  ],\n",
       "       [0.2350455 , 0.07627273, 0.8488003 , 0.58872338],\n",
       "       [0.29146814, 0.09069197, 0.75390894, 0.62907865],\n",
       "       [0.34662728, 0.14395631, 0.63366029, 0.68285011],\n",
       "       [0.59924977, 0.31265554, 0.53491602, 0.69117724],\n",
       "       [0.64525218, 0.35379014, 0.50574804, 0.72082183],\n",
       "       [0.72122323, 0.36397499, 0.4055537 , 0.77299162],\n",
       "       [0.77265351, 0.37189368, 0.37604842, 0.81505346],\n",
       "       [0.80076974, 0.38125093, 0.36117995, 0.84680877],\n",
       "       [0.8237053 , 0.42259587, 0.32972228, 0.88761543]])"
      ]
     },
     "execution_count": 58,
     "metadata": {},
     "output_type": "execute_result"
    }
   ],
   "source": [
    "allowed_nodes = som[bmu_counts >= 3]\n",
    "allowed_nodes"
   ]
  },
  {
   "cell_type": "code",
   "execution_count": 59,
   "metadata": {},
   "outputs": [
    {
     "data": {
      "text/plain": [
       "array([[0.13004534, 0.13607156, 0.14368527],\n",
       "       [0.11235571, 0.12492716, 0.12610446],\n",
       "       [0.09495036, 0.12508474, 0.1323169 ],\n",
       "       [0.18836012, 0.19773516, 0.24948025],\n",
       "       [0.07275724, 0.07941023, 0.10006361],\n",
       "       [0.09408739, 0.10521864, 0.14259389],\n",
       "       [0.11316621, 0.13592022, 0.14130308],\n",
       "       [0.11367541, 0.12394009, 0.16339175],\n",
       "       [0.0586733 , 0.06486541, 0.08841854],\n",
       "       [0.09408435, 0.11234643, 0.14057516],\n",
       "       [0.12202257, 0.15988279, 0.18889569],\n",
       "       [0.05590579, 0.07379182, 0.08898861],\n",
       "       [0.10970256, 0.13218122, 0.16367354],\n",
       "       [0.09717083, 0.1057532 , 0.13234253],\n",
       "       [0.18059017, 0.25070003, 0.2671037 ],\n",
       "       [0.17469364, 0.17855673, 0.18494506],\n",
       "       [0.09465383, 0.11697844, 0.12263857],\n",
       "       [0.10025418, 0.1114337 , 0.11801597],\n",
       "       [0.22855115, 0.27933899, 0.28175771],\n",
       "       [0.1089073 , 0.12266837, 0.13313484],\n",
       "       [0.05494381, 0.08263336, 0.09378549],\n",
       "       [0.11553528, 0.12095689, 0.12987458],\n",
       "       [0.09805002, 0.14543116, 0.16319083],\n",
       "       [0.04847869, 0.1081671 , 0.13077416],\n",
       "       [0.07640513, 0.1373882 , 0.15961616],\n",
       "       [0.05781136, 0.05794762, 0.08848801],\n",
       "       [0.16909132, 0.18310829, 0.18518035],\n",
       "       [0.07232487, 0.07275232, 0.09734512],\n",
       "       [0.20952159, 0.22062977, 0.2719079 ],\n",
       "       [0.13839599, 0.15622022, 0.20858807],\n",
       "       [0.03890464, 0.09362495, 0.09503765],\n",
       "       [0.06829212, 0.11360644, 0.12256007],\n",
       "       [0.06654475, 0.11063108, 0.11908525],\n",
       "       [0.19395153, 0.2067318 , 0.27038462],\n",
       "       [0.0878847 , 0.12372623, 0.16123854],\n",
       "       [0.08241   , 0.12393234, 0.14391805],\n",
       "       [0.12428433, 0.16785468, 0.18679653],\n",
       "       [0.08909771, 0.09238683, 0.11038307],\n",
       "       [0.05606066, 0.06954838, 0.08706457],\n",
       "       [0.08378909, 0.11144217, 0.11282171],\n",
       "       [0.15183028, 0.15776864, 0.16218192],\n",
       "       [0.06380582, 0.06987897, 0.08442359],\n",
       "       [0.04281558, 0.0687511 , 0.1101888 ],\n",
       "       [0.05425869, 0.08818782, 0.10818416],\n",
       "       [0.05901376, 0.07160808, 0.08386339],\n",
       "       [0.09217035, 0.10240608, 0.12676553],\n",
       "       [0.08087606, 0.08784026, 0.09004035],\n",
       "       [0.09002549, 0.09753149, 0.11611185],\n",
       "       [0.18415737, 0.19829913, 0.26710021],\n",
       "       [0.13898459, 0.15896632, 0.17131892],\n",
       "       [0.07277596, 0.0808481 , 0.10562385],\n",
       "       [0.09887703, 0.1321195 , 0.15210508],\n",
       "       [0.14013534, 0.14941244, 0.16623663],\n",
       "       [0.06305778, 0.09031723, 0.10136506],\n",
       "       [0.11095982, 0.12059295, 0.15066098],\n",
       "       [0.04488258, 0.07550625, 0.11672113],\n",
       "       [0.26307765, 0.29085116, 0.31891778],\n",
       "       [0.06907837, 0.08312308, 0.12693108],\n",
       "       [0.13434277, 0.14127339, 0.16212509],\n",
       "       [0.06145973, 0.06180581, 0.06776339],\n",
       "       [0.04434967, 0.05711634, 0.07900218],\n",
       "       [0.07953685, 0.11256328, 0.12253369],\n",
       "       [0.15611602, 0.20561047, 0.26624017],\n",
       "       [0.16360979, 0.191448  , 0.19716566],\n",
       "       [0.15334964, 0.17568565, 0.20305206],\n",
       "       [0.07499491, 0.08660196, 0.13123846],\n",
       "       [0.10954812, 0.11004951, 0.12704203],\n",
       "       [0.05010562, 0.09726929, 0.10782142],\n",
       "       [0.15027158, 0.17471993, 0.22436217],\n",
       "       [0.19449549, 0.24649631, 0.28394542],\n",
       "       [0.11480039, 0.13259746, 0.14143762],\n",
       "       [0.03035322, 0.0771555 , 0.09068707],\n",
       "       [0.11418923, 0.12657653, 0.15195817],\n",
       "       [0.14101646, 0.14927756, 0.19332012],\n",
       "       [0.13626695, 0.18093159, 0.19445229],\n",
       "       [0.13209148, 0.13650276, 0.14306842],\n",
       "       [0.06404843, 0.07516606, 0.11261158],\n",
       "       [0.04268643, 0.08612559, 0.09874046],\n",
       "       [0.10153251, 0.10220919, 0.12879737],\n",
       "       [0.08031473, 0.09053184, 0.12265843],\n",
       "       [0.10018333, 0.10749365, 0.11507267],\n",
       "       [0.1003335 , 0.10157745, 0.12774575],\n",
       "       [0.07422282, 0.12383968, 0.18247049],\n",
       "       [0.12018358, 0.14385257, 0.15474604],\n",
       "       [0.12107613, 0.14394958, 0.15399348],\n",
       "       [0.14265923, 0.18457046, 0.18638997],\n",
       "       [0.05158108, 0.10418484, 0.10708451],\n",
       "       [0.05470605, 0.08975108, 0.09086365],\n",
       "       [0.16568945, 0.19587088, 0.28776548],\n",
       "       [0.07544211, 0.08813313, 0.10333419],\n",
       "       [0.05986271, 0.08575066, 0.08676239],\n",
       "       [0.09598884, 0.10868991, 0.1169115 ],\n",
       "       [0.06924434, 0.09013072, 0.09116058],\n",
       "       [0.06954582, 0.0833012 , 0.11358115],\n",
       "       [0.15312616, 0.16409553, 0.17696755],\n",
       "       [0.08694225, 0.12887415, 0.14316145],\n",
       "       [0.07210887, 0.09891716, 0.11277142],\n",
       "       [0.1524844 , 0.15279987, 0.18395987],\n",
       "       [0.05981787, 0.0760731 , 0.08964413],\n",
       "       [0.11264954, 0.12567792, 0.13311675],\n",
       "       [0.08717545, 0.15156771, 0.17929021],\n",
       "       [0.09000638, 0.12358509, 0.12571445],\n",
       "       [0.0953969 , 0.1086477 , 0.14496366],\n",
       "       [0.13118392, 0.14879285, 0.14958172],\n",
       "       [0.21624824, 0.23796361, 0.2536657 ],\n",
       "       [0.08856912, 0.13567269, 0.14341374],\n",
       "       [0.09168507, 0.09395652, 0.09624838],\n",
       "       [0.06156186, 0.13343144, 0.15857645],\n",
       "       [0.15084776, 0.20851706, 0.21020007],\n",
       "       [0.09748911, 0.16556367, 0.16683816],\n",
       "       [0.10426164, 0.10542413, 0.11361217],\n",
       "       [0.08087971, 0.11556326, 0.15818856],\n",
       "       [0.13209545, 0.15501866, 0.17674759],\n",
       "       [0.0600037 , 0.06284519, 0.07015681],\n",
       "       [0.10942995, 0.11066832, 0.1184062 ],\n",
       "       [0.12690704, 0.16690366, 0.16865284],\n",
       "       [0.10163778, 0.1036483 , 0.16509301],\n",
       "       [0.04665803, 0.08272883, 0.08310695],\n",
       "       [0.11522869, 0.20355661, 0.24521254],\n",
       "       [0.08188473, 0.09503035, 0.09990025],\n",
       "       [0.11613307, 0.12637335, 0.13914082],\n",
       "       [0.0876487 , 0.10867297, 0.11691501],\n",
       "       [0.16806523, 0.17308836, 0.1803771 ],\n",
       "       [0.14449527, 0.14832817, 0.16419382],\n",
       "       [0.20908014, 0.23568246, 0.31834548],\n",
       "       [0.11744418, 0.12713078, 0.16732385],\n",
       "       [0.08935684, 0.14091398, 0.22480335],\n",
       "       [0.06705141, 0.07071825, 0.10196087],\n",
       "       [0.07690309, 0.08812354, 0.0934135 ],\n",
       "       [0.0449546 , 0.06383407, 0.10908013],\n",
       "       [0.17650888, 0.20166193, 0.22432043],\n",
       "       [0.17096117, 0.18700403, 0.24161608],\n",
       "       [0.15376334, 0.15976177, 0.20199639],\n",
       "       [0.05639366, 0.06880215, 0.10351879],\n",
       "       [0.14185185, 0.177419  , 0.18756859],\n",
       "       [0.10701138, 0.11707642, 0.12264668],\n",
       "       [0.07437207, 0.1031893 , 0.11988017],\n",
       "       [0.16290714, 0.19807757, 0.20830883],\n",
       "       [0.03675678, 0.04814554, 0.07355967],\n",
       "       [0.15938624, 0.19191498, 0.19373695],\n",
       "       [0.06532395, 0.06788614, 0.10842207],\n",
       "       [0.0865898 , 0.08984007, 0.11570029],\n",
       "       [0.19902303, 0.29356044, 0.2943928 ],\n",
       "       [0.18898543, 0.21911758, 0.25685453],\n",
       "       [0.1075894 , 0.10822711, 0.12557822],\n",
       "       [0.19979137, 0.20816368, 0.21076073],\n",
       "       [0.10249268, 0.17020048, 0.18377496],\n",
       "       [0.04579356, 0.13238103, 0.13927435],\n",
       "       [0.05246729, 0.10934781, 0.1546297 ],\n",
       "       [0.04730663, 0.05477285, 0.09958488],\n",
       "       [0.12309177, 0.12469696, 0.15437349],\n",
       "       [0.04386456, 0.05235577, 0.06111677],\n",
       "       [0.10926604, 0.1989582 , 0.24153833],\n",
       "       [0.15066831, 0.16986033, 0.20957838],\n",
       "       [0.12212479, 0.13808917, 0.14290907],\n",
       "       [0.10014519, 0.11239141, 0.11433708],\n",
       "       [0.07576326, 0.0949117 , 0.15224888],\n",
       "       [0.07999117, 0.1022786 , 0.10399638],\n",
       "       [0.0610442 , 0.08464917, 0.10034129],\n",
       "       [0.11695877, 0.14188044, 0.14813114],\n",
       "       [0.03996536, 0.06211163, 0.09579256],\n",
       "       [0.10232049, 0.16167104, 0.23637177],\n",
       "       [0.07404033, 0.09269131, 0.10763965],\n",
       "       [0.08779671, 0.09949629, 0.12041231],\n",
       "       [0.09134866, 0.11992075, 0.12493366],\n",
       "       [0.05335696, 0.08497474, 0.09839396],\n",
       "       [0.11269767, 0.19211485, 0.19317317],\n",
       "       [0.16714163, 0.18311018, 0.19389909],\n",
       "       [0.06468861, 0.09695762, 0.1117883 ],\n",
       "       [0.14768977, 0.15721969, 0.16495093],\n",
       "       [0.095262  , 0.12565787, 0.12660692],\n",
       "       [0.08760216, 0.09223256, 0.09264957],\n",
       "       [0.07217774, 0.07618674, 0.08003941],\n",
       "       [0.0697544 , 0.07773046, 0.10175382],\n",
       "       [0.13169805, 0.14467359, 0.17164171],\n",
       "       [0.11440618, 0.13217147, 0.15694114],\n",
       "       [0.0571803 , 0.08323635, 0.12323225],\n",
       "       [0.05337458, 0.0605127 , 0.10549027],\n",
       "       [0.07950531, 0.09598944, 0.13490885],\n",
       "       [0.06833929, 0.07815059, 0.13214726],\n",
       "       [0.19839721, 0.26174894, 0.30382714],\n",
       "       [0.16503787, 0.17592636, 0.22745203],\n",
       "       [0.12942533, 0.1518787 , 0.17160265],\n",
       "       [0.08292677, 0.08660653, 0.10206393],\n",
       "       [0.04687251, 0.05454567, 0.09457639],\n",
       "       [0.06400612, 0.09551424, 0.11147282],\n",
       "       [0.14087095, 0.21352078, 0.26943327],\n",
       "       [0.04577876, 0.08051355, 0.09203298],\n",
       "       [0.08310681, 0.09586401, 0.14827465],\n",
       "       [0.0618296 , 0.0791479 , 0.10778721],\n",
       "       [0.08144536, 0.08192453, 0.09655193],\n",
       "       [0.1224673 , 0.12681905, 0.13129292],\n",
       "       [0.04688601, 0.06192807, 0.07132937],\n",
       "       [0.28685943, 0.36837816, 0.40061158],\n",
       "       [0.10089088, 0.12255507, 0.12861747],\n",
       "       [0.04349631, 0.07038081, 0.09203214],\n",
       "       [0.09532269, 0.09747069, 0.11148338],\n",
       "       [0.14791307, 0.22291518, 0.22848216],\n",
       "       [0.14981757, 0.22261246, 0.23395776],\n",
       "       [0.07978125, 0.12847923, 0.13622503],\n",
       "       [0.1500174 , 0.16279327, 0.16691652],\n",
       "       [0.10089309, 0.11921489, 0.12068637],\n",
       "       [0.05545423, 0.06421581, 0.08304458],\n",
       "       [0.18103262, 0.2009343 , 0.25871736],\n",
       "       [0.03566875, 0.07379088, 0.09969908],\n",
       "       [0.28048352, 0.36178583, 0.39399877],\n",
       "       [0.23363921, 0.32105666, 0.33967372],\n",
       "       [0.05355265, 0.12410574, 0.12621694],\n",
       "       [0.10904837, 0.15027436, 0.1913795 ],\n",
       "       [0.08895514, 0.09164745, 0.11034836],\n",
       "       [0.13677384, 0.16272232, 0.16518087],\n",
       "       [0.105355  , 0.10999777, 0.16300332],\n",
       "       [0.08828427, 0.09554885, 0.14797022],\n",
       "       [0.10023274, 0.11225262, 0.1271314 ],\n",
       "       [0.06843028, 0.11015731, 0.12850779],\n",
       "       [0.03422088, 0.04437463, 0.09630857],\n",
       "       [0.13209148, 0.13650276, 0.14306842],\n",
       "       [0.06771398, 0.06946299, 0.11043046],\n",
       "       [0.17704352, 0.19786025, 0.2275774 ],\n",
       "       [0.16318447, 0.18382538, 0.19073057],\n",
       "       [0.06880499, 0.08644917, 0.09166256],\n",
       "       [0.13758011, 0.22091895, 0.25349083],\n",
       "       [0.08312028, 0.10545241, 0.15218339],\n",
       "       [0.10750222, 0.13929084, 0.16847389],\n",
       "       [0.08460614, 0.09685411, 0.09858674],\n",
       "       [0.13128265, 0.13574573, 0.15987396],\n",
       "       [0.19012093, 0.25459262, 0.26421566],\n",
       "       [0.12454594, 0.15012652, 0.20955347],\n",
       "       [0.17254545, 0.24504927, 0.24528111],\n",
       "       [0.22957287, 0.32379138, 0.32442974],\n",
       "       [0.07210478, 0.08586283, 0.11896993],\n",
       "       [0.07548596, 0.11790147, 0.1193154 ],\n",
       "       [0.07887297, 0.08045618, 0.0980725 ],\n",
       "       [0.12017602, 0.14578598, 0.17613164],\n",
       "       [0.12506853, 0.15895126, 0.15920057],\n",
       "       [0.02460594, 0.08273155, 0.11349432],\n",
       "       [0.05077268, 0.07077821, 0.07360603],\n",
       "       [0.06398786, 0.09095532, 0.10253577],\n",
       "       [0.06229087, 0.06276324, 0.08957835],\n",
       "       [0.09355812, 0.10070713, 0.13599407],\n",
       "       [0.0499229 , 0.0665718 , 0.09292768],\n",
       "       [0.1044011 , 0.1561471 , 0.16257364],\n",
       "       [0.0721471 , 0.08834911, 0.09105104],\n",
       "       [0.08896586, 0.1085255 , 0.11573458],\n",
       "       [0.07464803, 0.1049892 , 0.10999638],\n",
       "       [0.0996302 , 0.19532077, 0.19898646],\n",
       "       [0.16127643, 0.17604569, 0.18506408],\n",
       "       [0.05971989, 0.07151193, 0.12179381],\n",
       "       [0.07137015, 0.08281871, 0.08687811],\n",
       "       [0.15637195, 0.16651005, 0.2380796 ],\n",
       "       [0.14567423, 0.17349192, 0.2248559 ],\n",
       "       [0.05266254, 0.08657089, 0.0866076 ],\n",
       "       [0.07840544, 0.11058029, 0.11842417],\n",
       "       [0.10243621, 0.18633008, 0.23016993],\n",
       "       [0.20331893, 0.21106682, 0.21426491],\n",
       "       [0.05211711, 0.07352601, 0.11063655],\n",
       "       [0.0519081 , 0.0912761 , 0.108743  ],\n",
       "       [0.13225221, 0.14954186, 0.15569969],\n",
       "       [0.13884452, 0.21782284, 0.25771748],\n",
       "       [0.04372219, 0.04742482, 0.09357473],\n",
       "       [0.17411841, 0.21157248, 0.23584801],\n",
       "       [0.18166238, 0.22657314, 0.30699085],\n",
       "       [0.07423609, 0.08541418, 0.097988  ],\n",
       "       [0.08599973, 0.09120014, 0.09162211],\n",
       "       [0.07550614, 0.08519647, 0.08780695],\n",
       "       [0.05065924, 0.07107367, 0.08867217],\n",
       "       [0.0559203 , 0.08095203, 0.10249033],\n",
       "       [0.06696483, 0.08281019, 0.09887415],\n",
       "       [0.07821131, 0.10069826, 0.10831315],\n",
       "       [0.12785247, 0.1382411 , 0.16563023],\n",
       "       [0.06785551, 0.10658618, 0.1313469 ],\n",
       "       [0.15970704, 0.15982557, 0.17461234],\n",
       "       [0.07601508, 0.08842456, 0.10281826],\n",
       "       [0.11235493, 0.1249267 , 0.12610329],\n",
       "       [0.09688483, 0.10039723, 0.15541234]])"
      ]
     },
     "execution_count": 59,
     "metadata": {},
     "output_type": "execute_result"
    }
   ],
   "source": [
    "from sklearn.neighbors import NearestNeighbors\n",
    "\n",
    "classifier = NearestNeighbors(n_neighbors=3)\n",
    "classifier.fit(allowed_nodes)\n",
    "dist, _ = classifier.kneighbors(test_x_norm)\n",
    "\n",
    "dist"
   ]
  },
  {
   "cell_type": "code",
   "execution_count": 60,
   "metadata": {},
   "outputs": [
    {
     "data": {
      "text/plain": [
       "(275,)"
      ]
     },
     "execution_count": 60,
     "metadata": {},
     "output_type": "execute_result"
    }
   ],
   "source": [
    "dist1 = dist.mean(1)\n",
    "dist1.shape"
   ]
  },
  {
   "cell_type": "code",
   "execution_count": 61,
   "metadata": {},
   "outputs": [
    {
     "data": {
      "text/plain": [
       "[<matplotlib.lines.Line2D at 0x1ef7925d640>]"
      ]
     },
     "execution_count": 61,
     "metadata": {},
     "output_type": "execute_result"
    },
    {
     "data": {
      "image/png": "[encoded data removed]",
      "text/plain": [
       "<Figure size 640x480 with 1 Axes>"
      ]
     },
     "metadata": {},
     "output_type": "display_data"
    }
   ],
   "source": [
    "plt.plot(np.arange(test_x_norm.shape[0]), dist1)"
   ]
  },
  {
   "cell_type": "code",
   "execution_count": null,
   "metadata": {},
   "outputs": [],
   "source": []
  },
  {
   "cell_type": "code",
   "execution_count": 62,
   "metadata": {},
   "outputs": [],
   "source": [
    "def quantization_error(data, som):\n",
    "    total_error = 0.0\n",
    "    for row in data:\n",
    "        distance_map = np.sqrt(np.sum((som-row)**2, axis=2))\n",
    "        total_error += distance_map.min()\n",
    "    quantization_err = total_error / data.shape[0]\n",
    "    return quantization_err\n",
    "\n",
    "def quantization_error_broadcasted(data, som):\n",
    "    som_bro = som[:,:,:,np.newaxis]\n",
    "    data_bro = data.T[np.newaxis,np.newaxis, :, :]\n",
    "    distance_map = np.sqrt(np.sum((som_bro-data_bro)**2, axis=2))\n",
    "    total_error = np.min(distance_map, axis=(0,1)).sum()\n",
    "    quantization_err = total_error / data.shape[0]\n",
    "    return quantization_err"
   ]
  },
  {
   "cell_type": "code",
   "execution_count": 63,
   "metadata": {},
   "outputs": [
    {
     "data": {
      "text/plain": [
       "0.07693295642453625"
      ]
     },
     "execution_count": 63,
     "metadata": {},
     "output_type": "execute_result"
    }
   ],
   "source": [
    "training_qt_err=quantization_error(train_x_norm, som)\n",
    "training_qt_err"
   ]
  },
  {
   "cell_type": "code",
   "execution_count": 64,
   "metadata": {},
   "outputs": [
    {
     "data": {
      "text/plain": [
       "0.10363156930568049"
      ]
     },
     "execution_count": 64,
     "metadata": {},
     "output_type": "execute_result"
    }
   ],
   "source": [
    "test_qt_error=quantization_error(test_x_norm, som)\n",
    "test_qt_error"
   ]
  },
  {
   "cell_type": "code",
   "execution_count": null,
   "metadata": {},
   "outputs": [],
   "source": []
  }
 ],
 "metadata": {
  "kernelspec": {
   "display_name": "Python 3",
   "language": "python",
   "name": "python3"
  },
  "language_info": {
   "codemirror_mode": {
    "name": "ipython",
    "version": 3
   },
   "file_extension": ".py",
   "mimetype": "text/x-python",
   "name": "python",
   "nbconvert_exporter": "python",
   "pygments_lexer": "ipython3",
   "version": "3.12.0"
  }
 },
 "nbformat": 4,
 "nbformat_minor": 4
}
